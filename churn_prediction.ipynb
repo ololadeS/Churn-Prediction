{
 "cells": [
  {
   "attachments": {},
   "cell_type": "markdown",
   "metadata": {},
   "source": [
    "### Data Preparation"
   ]
  },
  {
   "cell_type": "code",
   "execution_count": 1,
   "metadata": {},
   "outputs": [],
   "source": [
    "# import libraries\n",
    "import pandas as pd\n",
    "import numpy as np\n",
    "import matplotlib.pyplot as plt\n",
    "import seaborn as sns\n",
    "import plotly.express as px\n",
    "from sklearn.preprocessing import LabelEncoder\n",
    "from sklearn.feature_selection import mutual_info_classif #classif for classification prob., regression (continous values)\n",
    "from sklearn.model_selection import train_test_split\n",
    "from sklearn.ensemble import RandomForestClassifier\n",
    "from sklearn.linear_model import LogisticRegression\n",
    "from sklearn.metrics import accuracy_score, classification_report, confusion_matrix, roc_auc_score, roc_curve\n",
    "import pickle\n",
    "\n",
    "import warnings\n",
    "# Ignore all warnings\n",
    "warnings.filterwarnings('ignore')"
   ]
  },
  {
   "cell_type": "code",
   "execution_count": 2,
   "metadata": {},
   "outputs": [
    {
     "name": "stdout",
     "output_type": "stream",
     "text": [
      "(5630, 20)\n"
     ]
    },
    {
     "data": {
      "text/html": [
       "<div>\n",
       "<style scoped>\n",
       "    .dataframe tbody tr th:only-of-type {\n",
       "        vertical-align: middle;\n",
       "    }\n",
       "\n",
       "    .dataframe tbody tr th {\n",
       "        vertical-align: top;\n",
       "    }\n",
       "\n",
       "    .dataframe thead th {\n",
       "        text-align: right;\n",
       "    }\n",
       "</style>\n",
       "<table border=\"1\" class=\"dataframe\">\n",
       "  <thead>\n",
       "    <tr style=\"text-align: right;\">\n",
       "      <th></th>\n",
       "      <th>CustomerID</th>\n",
       "      <th>Churn</th>\n",
       "      <th>Tenure</th>\n",
       "      <th>PreferredLoginDevice</th>\n",
       "      <th>CityTier</th>\n",
       "      <th>WarehouseToHome</th>\n",
       "      <th>PreferredPaymentMode</th>\n",
       "      <th>Gender</th>\n",
       "      <th>HourSpendOnApp</th>\n",
       "      <th>NumberOfDeviceRegistered</th>\n",
       "      <th>PreferedOrderCat</th>\n",
       "      <th>SatisfactionScore</th>\n",
       "      <th>MaritalStatus</th>\n",
       "      <th>NumberOfAddress</th>\n",
       "      <th>Complain</th>\n",
       "      <th>OrderAmountHikeFromlastYear</th>\n",
       "      <th>CouponUsed</th>\n",
       "      <th>OrderCount</th>\n",
       "      <th>DaySinceLastOrder</th>\n",
       "      <th>CashbackAmount</th>\n",
       "    </tr>\n",
       "  </thead>\n",
       "  <tbody>\n",
       "    <tr>\n",
       "      <th>0</th>\n",
       "      <td>50001</td>\n",
       "      <td>1</td>\n",
       "      <td>4.0</td>\n",
       "      <td>Mobile Phone</td>\n",
       "      <td>3</td>\n",
       "      <td>6.0</td>\n",
       "      <td>Debit Card</td>\n",
       "      <td>Female</td>\n",
       "      <td>3.0</td>\n",
       "      <td>3</td>\n",
       "      <td>Laptop &amp; Accessory</td>\n",
       "      <td>2</td>\n",
       "      <td>Single</td>\n",
       "      <td>9</td>\n",
       "      <td>1</td>\n",
       "      <td>11.0</td>\n",
       "      <td>1.0</td>\n",
       "      <td>1.0</td>\n",
       "      <td>5.0</td>\n",
       "      <td>159.93</td>\n",
       "    </tr>\n",
       "    <tr>\n",
       "      <th>1</th>\n",
       "      <td>50002</td>\n",
       "      <td>1</td>\n",
       "      <td>NaN</td>\n",
       "      <td>Phone</td>\n",
       "      <td>1</td>\n",
       "      <td>8.0</td>\n",
       "      <td>UPI</td>\n",
       "      <td>Male</td>\n",
       "      <td>3.0</td>\n",
       "      <td>4</td>\n",
       "      <td>Mobile</td>\n",
       "      <td>3</td>\n",
       "      <td>Single</td>\n",
       "      <td>7</td>\n",
       "      <td>1</td>\n",
       "      <td>15.0</td>\n",
       "      <td>0.0</td>\n",
       "      <td>1.0</td>\n",
       "      <td>0.0</td>\n",
       "      <td>120.90</td>\n",
       "    </tr>\n",
       "    <tr>\n",
       "      <th>2</th>\n",
       "      <td>50003</td>\n",
       "      <td>1</td>\n",
       "      <td>NaN</td>\n",
       "      <td>Phone</td>\n",
       "      <td>1</td>\n",
       "      <td>30.0</td>\n",
       "      <td>Debit Card</td>\n",
       "      <td>Male</td>\n",
       "      <td>2.0</td>\n",
       "      <td>4</td>\n",
       "      <td>Mobile</td>\n",
       "      <td>3</td>\n",
       "      <td>Single</td>\n",
       "      <td>6</td>\n",
       "      <td>1</td>\n",
       "      <td>14.0</td>\n",
       "      <td>0.0</td>\n",
       "      <td>1.0</td>\n",
       "      <td>3.0</td>\n",
       "      <td>120.28</td>\n",
       "    </tr>\n",
       "    <tr>\n",
       "      <th>3</th>\n",
       "      <td>50004</td>\n",
       "      <td>1</td>\n",
       "      <td>0.0</td>\n",
       "      <td>Phone</td>\n",
       "      <td>3</td>\n",
       "      <td>15.0</td>\n",
       "      <td>Debit Card</td>\n",
       "      <td>Male</td>\n",
       "      <td>2.0</td>\n",
       "      <td>4</td>\n",
       "      <td>Laptop &amp; Accessory</td>\n",
       "      <td>5</td>\n",
       "      <td>Single</td>\n",
       "      <td>8</td>\n",
       "      <td>0</td>\n",
       "      <td>23.0</td>\n",
       "      <td>0.0</td>\n",
       "      <td>1.0</td>\n",
       "      <td>3.0</td>\n",
       "      <td>134.07</td>\n",
       "    </tr>\n",
       "    <tr>\n",
       "      <th>4</th>\n",
       "      <td>50005</td>\n",
       "      <td>1</td>\n",
       "      <td>0.0</td>\n",
       "      <td>Phone</td>\n",
       "      <td>1</td>\n",
       "      <td>12.0</td>\n",
       "      <td>CC</td>\n",
       "      <td>Male</td>\n",
       "      <td>NaN</td>\n",
       "      <td>3</td>\n",
       "      <td>Mobile</td>\n",
       "      <td>5</td>\n",
       "      <td>Single</td>\n",
       "      <td>3</td>\n",
       "      <td>0</td>\n",
       "      <td>11.0</td>\n",
       "      <td>1.0</td>\n",
       "      <td>1.0</td>\n",
       "      <td>3.0</td>\n",
       "      <td>129.60</td>\n",
       "    </tr>\n",
       "  </tbody>\n",
       "</table>\n",
       "</div>"
      ],
      "text/plain": [
       "   CustomerID  Churn  Tenure PreferredLoginDevice  CityTier  WarehouseToHome  \\\n",
       "0       50001      1     4.0         Mobile Phone         3              6.0   \n",
       "1       50002      1     NaN                Phone         1              8.0   \n",
       "2       50003      1     NaN                Phone         1             30.0   \n",
       "3       50004      1     0.0                Phone         3             15.0   \n",
       "4       50005      1     0.0                Phone         1             12.0   \n",
       "\n",
       "  PreferredPaymentMode  Gender  HourSpendOnApp  NumberOfDeviceRegistered  \\\n",
       "0           Debit Card  Female             3.0                         3   \n",
       "1                  UPI    Male             3.0                         4   \n",
       "2           Debit Card    Male             2.0                         4   \n",
       "3           Debit Card    Male             2.0                         4   \n",
       "4                   CC    Male             NaN                         3   \n",
       "\n",
       "     PreferedOrderCat  SatisfactionScore MaritalStatus  NumberOfAddress  \\\n",
       "0  Laptop & Accessory                  2        Single                9   \n",
       "1              Mobile                  3        Single                7   \n",
       "2              Mobile                  3        Single                6   \n",
       "3  Laptop & Accessory                  5        Single                8   \n",
       "4              Mobile                  5        Single                3   \n",
       "\n",
       "   Complain  OrderAmountHikeFromlastYear  CouponUsed  OrderCount  \\\n",
       "0         1                         11.0         1.0         1.0   \n",
       "1         1                         15.0         0.0         1.0   \n",
       "2         1                         14.0         0.0         1.0   \n",
       "3         0                         23.0         0.0         1.0   \n",
       "4         0                         11.0         1.0         1.0   \n",
       "\n",
       "   DaySinceLastOrder  CashbackAmount  \n",
       "0                5.0          159.93  \n",
       "1                0.0          120.90  \n",
       "2                3.0          120.28  \n",
       "3                3.0          134.07  \n",
       "4                3.0          129.60  "
      ]
     },
     "execution_count": 2,
     "metadata": {},
     "output_type": "execute_result"
    }
   ],
   "source": [
    "## Read dataset\n",
    "df = pd.read_excel(r'C:\\Users\\Admin\\predicting-customer-churn\\E_Commerce_Dataset.xlsx', 'E Comm')\n",
    "print(df.shape)\n",
    "df.head()"
   ]
  },
  {
   "cell_type": "code",
   "execution_count": 3,
   "metadata": {},
   "outputs": [
    {
     "name": "stdout",
     "output_type": "stream",
     "text": [
      "<class 'pandas.core.frame.DataFrame'>\n",
      "RangeIndex: 5630 entries, 0 to 5629\n",
      "Data columns (total 20 columns):\n",
      " #   Column                       Non-Null Count  Dtype  \n",
      "---  ------                       --------------  -----  \n",
      " 0   CustomerID                   5630 non-null   int64  \n",
      " 1   Churn                        5630 non-null   int64  \n",
      " 2   Tenure                       5366 non-null   float64\n",
      " 3   PreferredLoginDevice         5630 non-null   object \n",
      " 4   CityTier                     5630 non-null   int64  \n",
      " 5   WarehouseToHome              5379 non-null   float64\n",
      " 6   PreferredPaymentMode         5630 non-null   object \n",
      " 7   Gender                       5630 non-null   object \n",
      " 8   HourSpendOnApp               5375 non-null   float64\n",
      " 9   NumberOfDeviceRegistered     5630 non-null   int64  \n",
      " 10  PreferedOrderCat             5630 non-null   object \n",
      " 11  SatisfactionScore            5630 non-null   int64  \n",
      " 12  MaritalStatus                5630 non-null   object \n",
      " 13  NumberOfAddress              5630 non-null   int64  \n",
      " 14  Complain                     5630 non-null   int64  \n",
      " 15  OrderAmountHikeFromlastYear  5365 non-null   float64\n",
      " 16  CouponUsed                   5374 non-null   float64\n",
      " 17  OrderCount                   5372 non-null   float64\n",
      " 18  DaySinceLastOrder            5323 non-null   float64\n",
      " 19  CashbackAmount               5630 non-null   float64\n",
      "dtypes: float64(8), int64(7), object(5)\n",
      "memory usage: 879.8+ KB\n"
     ]
    }
   ],
   "source": [
    "df.info()"
   ]
  },
  {
   "cell_type": "code",
   "execution_count": 4,
   "metadata": {},
   "outputs": [
    {
     "name": "stdout",
     "output_type": "stream",
     "text": [
      "customerid                       0\n",
      "churn                            0\n",
      "tenure                         264\n",
      "preferredlogindevice             0\n",
      "citytier                         0\n",
      "warehousetohome                251\n",
      "preferredpaymentmode             0\n",
      "gender                           0\n",
      "hourspendonapp                 255\n",
      "numberofdeviceregistered         0\n",
      "preferedordercat                 0\n",
      "satisfactionscore                0\n",
      "maritalstatus                    0\n",
      "numberofaddress                  0\n",
      "complain                         0\n",
      "orderamounthikefromlastyear    265\n",
      "couponused                     256\n",
      "ordercount                     258\n",
      "daysincelastorder              307\n",
      "cashbackamount                   0\n",
      "dtype: int64\n"
     ]
    }
   ],
   "source": [
    "#get the number of missing values\n",
    "df.columns  = df.columns.str.lower()\n",
    "print(df.isnull().sum())"
   ]
  },
  {
   "cell_type": "code",
   "execution_count": 5,
   "metadata": {},
   "outputs": [
    {
     "data": {
      "text/plain": [
       "3.0     900\n",
       "2.0     792\n",
       "1.0     614\n",
       "8.0     538\n",
       "0.0     496\n",
       "7.0     447\n",
       "4.0     431\n",
       "9.0     299\n",
       "5.0     228\n",
       "10.0    157\n",
       "6.0     113\n",
       "11.0     91\n",
       "12.0     69\n",
       "13.0     51\n",
       "14.0     35\n",
       "15.0     19\n",
       "17.0     17\n",
       "16.0     13\n",
       "18.0     10\n",
       "30.0      1\n",
       "46.0      1\n",
       "31.0      1\n",
       "Name: daysincelastorder, dtype: int64"
      ]
     },
     "execution_count": 5,
     "metadata": {},
     "output_type": "execute_result"
    }
   ],
   "source": [
    "#get the unique values in daysincelastorder variable\n",
    "df.daysincelastorder.value_counts()"
   ]
  },
  {
   "cell_type": "code",
   "execution_count": 6,
   "metadata": {},
   "outputs": [],
   "source": [
    "#fill missing values in 'daysincelastorder' with 0\n",
    "df['daysincelastorder'] = df['daysincelastorder'].fillna(0)\n",
    "\n",
    "# # Fill missing values with mean\n",
    "# df.fillna(df.mean(), inplace=True)"
   ]
  },
  {
   "cell_type": "code",
   "execution_count": 7,
   "metadata": {},
   "outputs": [
    {
     "name": "stdout",
     "output_type": "stream",
     "text": [
      "Percentage of missing values:\n",
      "customerid                     0.000000\n",
      "churn                          0.000000\n",
      "tenure                         4.689165\n",
      "preferredlogindevice           0.000000\n",
      "citytier                       0.000000\n",
      "warehousetohome                4.458259\n",
      "preferredpaymentmode           0.000000\n",
      "gender                         0.000000\n",
      "hourspendonapp                 4.529307\n",
      "numberofdeviceregistered       0.000000\n",
      "preferedordercat               0.000000\n",
      "satisfactionscore              0.000000\n",
      "maritalstatus                  0.000000\n",
      "numberofaddress                0.000000\n",
      "complain                       0.000000\n",
      "orderamounthikefromlastyear    4.706927\n",
      "couponused                     4.547069\n",
      "ordercount                     4.582593\n",
      "daysincelastorder              0.000000\n",
      "cashbackamount                 0.000000\n",
      "dtype: float64\n"
     ]
    }
   ],
   "source": [
    "# Calculate the percentage of missing values for each variable\n",
    "missing_values = df.isnull().mean() * 100\n",
    "print(\"Percentage of missing values:\")\n",
    "print(missing_values)"
   ]
  },
  {
   "cell_type": "code",
   "execution_count": 8,
   "metadata": {},
   "outputs": [],
   "source": [
    "#drop missing values\n",
    "# df.dropna(inplace=True), df.reset_index()\n",
    "df.dropna(inplace=True)\n",
    "df.reset_index(drop=True, inplace=True)"
   ]
  },
  {
   "cell_type": "code",
   "execution_count": 9,
   "metadata": {},
   "outputs": [
    {
     "data": {
      "text/plain": [
       "customerid                     0\n",
       "churn                          0\n",
       "tenure                         0\n",
       "preferredlogindevice           0\n",
       "citytier                       0\n",
       "warehousetohome                0\n",
       "preferredpaymentmode           0\n",
       "gender                         0\n",
       "hourspendonapp                 0\n",
       "numberofdeviceregistered       0\n",
       "preferedordercat               0\n",
       "satisfactionscore              0\n",
       "maritalstatus                  0\n",
       "numberofaddress                0\n",
       "complain                       0\n",
       "orderamounthikefromlastyear    0\n",
       "couponused                     0\n",
       "ordercount                     0\n",
       "daysincelastorder              0\n",
       "cashbackamount                 0\n",
       "dtype: int64"
      ]
     },
     "execution_count": 9,
     "metadata": {},
     "output_type": "execute_result"
    }
   ],
   "source": [
    "#confirm the missing values are dropped\n",
    "df.isnull().sum()"
   ]
  },
  {
   "cell_type": "code",
   "execution_count": 10,
   "metadata": {},
   "outputs": [
    {
     "name": "stdout",
     "output_type": "stream",
     "text": [
      "4081\n"
     ]
    },
    {
     "data": {
      "text/plain": [
       "(4081, 20)"
      ]
     },
     "execution_count": 10,
     "metadata": {},
     "output_type": "execute_result"
    }
   ],
   "source": [
    "print(df.customerid.nunique())\n",
    "# check number of rows and columns\n",
    "df.shape"
   ]
  },
  {
   "cell_type": "markdown",
   "metadata": {},
   "source": [
    "### Exploratory Data Analysis"
   ]
  },
  {
   "cell_type": "code",
   "execution_count": 11,
   "metadata": {},
   "outputs": [
    {
     "data": {
      "text/html": [
       "<div>\n",
       "<style scoped>\n",
       "    .dataframe tbody tr th:only-of-type {\n",
       "        vertical-align: middle;\n",
       "    }\n",
       "\n",
       "    .dataframe tbody tr th {\n",
       "        vertical-align: top;\n",
       "    }\n",
       "\n",
       "    .dataframe thead th {\n",
       "        text-align: right;\n",
       "    }\n",
       "</style>\n",
       "<table border=\"1\" class=\"dataframe\">\n",
       "  <thead>\n",
       "    <tr style=\"text-align: right;\">\n",
       "      <th></th>\n",
       "      <th>customerid</th>\n",
       "      <th>churn</th>\n",
       "      <th>tenure</th>\n",
       "      <th>citytier</th>\n",
       "      <th>warehousetohome</th>\n",
       "      <th>hourspendonapp</th>\n",
       "      <th>numberofdeviceregistered</th>\n",
       "      <th>satisfactionscore</th>\n",
       "      <th>numberofaddress</th>\n",
       "      <th>complain</th>\n",
       "      <th>orderamounthikefromlastyear</th>\n",
       "      <th>couponused</th>\n",
       "      <th>ordercount</th>\n",
       "      <th>daysincelastorder</th>\n",
       "      <th>cashbackamount</th>\n",
       "    </tr>\n",
       "  </thead>\n",
       "  <tbody>\n",
       "    <tr>\n",
       "      <th>count</th>\n",
       "      <td>4081.000000</td>\n",
       "      <td>4081.000000</td>\n",
       "      <td>4081.000000</td>\n",
       "      <td>4081.000000</td>\n",
       "      <td>4081.000000</td>\n",
       "      <td>4081.000000</td>\n",
       "      <td>4081.000000</td>\n",
       "      <td>4081.000000</td>\n",
       "      <td>4081.000000</td>\n",
       "      <td>4081.000000</td>\n",
       "      <td>4081.000000</td>\n",
       "      <td>4081.000000</td>\n",
       "      <td>4081.000000</td>\n",
       "      <td>4081.000000</td>\n",
       "      <td>4081.000000</td>\n",
       "    </tr>\n",
       "    <tr>\n",
       "      <th>mean</th>\n",
       "      <td>53056.921098</td>\n",
       "      <td>0.167851</td>\n",
       "      <td>8.996569</td>\n",
       "      <td>1.723107</td>\n",
       "      <td>15.773340</td>\n",
       "      <td>2.995099</td>\n",
       "      <td>3.782896</td>\n",
       "      <td>3.052928</td>\n",
       "      <td>4.252879</td>\n",
       "      <td>0.281304</td>\n",
       "      <td>15.761578</td>\n",
       "      <td>1.791963</td>\n",
       "      <td>2.962754</td>\n",
       "      <td>4.185739</td>\n",
       "      <td>168.467302</td>\n",
       "    </tr>\n",
       "    <tr>\n",
       "      <th>std</th>\n",
       "      <td>1606.554842</td>\n",
       "      <td>0.373780</td>\n",
       "      <td>7.756180</td>\n",
       "      <td>0.941826</td>\n",
       "      <td>8.566083</td>\n",
       "      <td>0.719460</td>\n",
       "      <td>1.019136</td>\n",
       "      <td>1.390846</td>\n",
       "      <td>2.563652</td>\n",
       "      <td>0.449690</td>\n",
       "      <td>3.645203</td>\n",
       "      <td>1.776368</td>\n",
       "      <td>2.658889</td>\n",
       "      <td>3.454863</td>\n",
       "      <td>27.616749</td>\n",
       "    </tr>\n",
       "    <tr>\n",
       "      <th>min</th>\n",
       "      <td>50001.000000</td>\n",
       "      <td>0.000000</td>\n",
       "      <td>0.000000</td>\n",
       "      <td>1.000000</td>\n",
       "      <td>5.000000</td>\n",
       "      <td>0.000000</td>\n",
       "      <td>1.000000</td>\n",
       "      <td>1.000000</td>\n",
       "      <td>1.000000</td>\n",
       "      <td>0.000000</td>\n",
       "      <td>11.000000</td>\n",
       "      <td>0.000000</td>\n",
       "      <td>1.000000</td>\n",
       "      <td>0.000000</td>\n",
       "      <td>0.000000</td>\n",
       "    </tr>\n",
       "    <tr>\n",
       "      <th>25%</th>\n",
       "      <td>51702.000000</td>\n",
       "      <td>0.000000</td>\n",
       "      <td>2.000000</td>\n",
       "      <td>1.000000</td>\n",
       "      <td>9.000000</td>\n",
       "      <td>3.000000</td>\n",
       "      <td>3.000000</td>\n",
       "      <td>2.000000</td>\n",
       "      <td>2.000000</td>\n",
       "      <td>0.000000</td>\n",
       "      <td>13.000000</td>\n",
       "      <td>1.000000</td>\n",
       "      <td>1.000000</td>\n",
       "      <td>2.000000</td>\n",
       "      <td>149.040000</td>\n",
       "    </tr>\n",
       "    <tr>\n",
       "      <th>50%</th>\n",
       "      <td>53216.000000</td>\n",
       "      <td>0.000000</td>\n",
       "      <td>8.000000</td>\n",
       "      <td>1.000000</td>\n",
       "      <td>14.000000</td>\n",
       "      <td>3.000000</td>\n",
       "      <td>4.000000</td>\n",
       "      <td>3.000000</td>\n",
       "      <td>3.000000</td>\n",
       "      <td>0.000000</td>\n",
       "      <td>15.000000</td>\n",
       "      <td>1.000000</td>\n",
       "      <td>2.000000</td>\n",
       "      <td>3.000000</td>\n",
       "      <td>163.160000</td>\n",
       "    </tr>\n",
       "    <tr>\n",
       "      <th>75%</th>\n",
       "      <td>54419.000000</td>\n",
       "      <td>0.000000</td>\n",
       "      <td>14.000000</td>\n",
       "      <td>3.000000</td>\n",
       "      <td>21.000000</td>\n",
       "      <td>3.000000</td>\n",
       "      <td>4.000000</td>\n",
       "      <td>4.000000</td>\n",
       "      <td>6.000000</td>\n",
       "      <td>1.000000</td>\n",
       "      <td>18.000000</td>\n",
       "      <td>2.000000</td>\n",
       "      <td>3.000000</td>\n",
       "      <td>7.000000</td>\n",
       "      <td>183.550000</td>\n",
       "    </tr>\n",
       "    <tr>\n",
       "      <th>max</th>\n",
       "      <td>55630.000000</td>\n",
       "      <td>1.000000</td>\n",
       "      <td>51.000000</td>\n",
       "      <td>3.000000</td>\n",
       "      <td>127.000000</td>\n",
       "      <td>5.000000</td>\n",
       "      <td>6.000000</td>\n",
       "      <td>5.000000</td>\n",
       "      <td>22.000000</td>\n",
       "      <td>1.000000</td>\n",
       "      <td>26.000000</td>\n",
       "      <td>16.000000</td>\n",
       "      <td>16.000000</td>\n",
       "      <td>46.000000</td>\n",
       "      <td>324.990000</td>\n",
       "    </tr>\n",
       "  </tbody>\n",
       "</table>\n",
       "</div>"
      ],
      "text/plain": [
       "         customerid        churn       tenure     citytier  warehousetohome  \\\n",
       "count   4081.000000  4081.000000  4081.000000  4081.000000      4081.000000   \n",
       "mean   53056.921098     0.167851     8.996569     1.723107        15.773340   \n",
       "std     1606.554842     0.373780     7.756180     0.941826         8.566083   \n",
       "min    50001.000000     0.000000     0.000000     1.000000         5.000000   \n",
       "25%    51702.000000     0.000000     2.000000     1.000000         9.000000   \n",
       "50%    53216.000000     0.000000     8.000000     1.000000        14.000000   \n",
       "75%    54419.000000     0.000000    14.000000     3.000000        21.000000   \n",
       "max    55630.000000     1.000000    51.000000     3.000000       127.000000   \n",
       "\n",
       "       hourspendonapp  numberofdeviceregistered  satisfactionscore  \\\n",
       "count     4081.000000               4081.000000        4081.000000   \n",
       "mean         2.995099                  3.782896           3.052928   \n",
       "std          0.719460                  1.019136           1.390846   \n",
       "min          0.000000                  1.000000           1.000000   \n",
       "25%          3.000000                  3.000000           2.000000   \n",
       "50%          3.000000                  4.000000           3.000000   \n",
       "75%          3.000000                  4.000000           4.000000   \n",
       "max          5.000000                  6.000000           5.000000   \n",
       "\n",
       "       numberofaddress     complain  orderamounthikefromlastyear   couponused  \\\n",
       "count      4081.000000  4081.000000                  4081.000000  4081.000000   \n",
       "mean          4.252879     0.281304                    15.761578     1.791963   \n",
       "std           2.563652     0.449690                     3.645203     1.776368   \n",
       "min           1.000000     0.000000                    11.000000     0.000000   \n",
       "25%           2.000000     0.000000                    13.000000     1.000000   \n",
       "50%           3.000000     0.000000                    15.000000     1.000000   \n",
       "75%           6.000000     1.000000                    18.000000     2.000000   \n",
       "max          22.000000     1.000000                    26.000000    16.000000   \n",
       "\n",
       "        ordercount  daysincelastorder  cashbackamount  \n",
       "count  4081.000000        4081.000000     4081.000000  \n",
       "mean      2.962754           4.185739      168.467302  \n",
       "std       2.658889           3.454863       27.616749  \n",
       "min       1.000000           0.000000        0.000000  \n",
       "25%       1.000000           2.000000      149.040000  \n",
       "50%       2.000000           3.000000      163.160000  \n",
       "75%       3.000000           7.000000      183.550000  \n",
       "max      16.000000          46.000000      324.990000  "
      ]
     },
     "execution_count": 11,
     "metadata": {},
     "output_type": "execute_result"
    }
   ],
   "source": [
    "#get the summarry statistics of numerical varianles \n",
    "df.describe()"
   ]
  },
  {
   "cell_type": "code",
   "execution_count": 12,
   "metadata": {},
   "outputs": [
    {
     "data": {
      "text/plain": [
       "customerid                       int64\n",
       "churn                            int64\n",
       "tenure                         float64\n",
       "preferredlogindevice            object\n",
       "citytier                         int64\n",
       "warehousetohome                float64\n",
       "preferredpaymentmode            object\n",
       "gender                          object\n",
       "hourspendonapp                 float64\n",
       "numberofdeviceregistered         int64\n",
       "preferedordercat                object\n",
       "satisfactionscore                int64\n",
       "maritalstatus                   object\n",
       "numberofaddress                  int64\n",
       "complain                         int64\n",
       "orderamounthikefromlastyear    float64\n",
       "couponused                     float64\n",
       "ordercount                     float64\n",
       "daysincelastorder              float64\n",
       "cashbackamount                 float64\n",
       "dtype: object"
      ]
     },
     "execution_count": 12,
     "metadata": {},
     "output_type": "execute_result"
    }
   ],
   "source": [
    "#check the datatypes \n",
    "df.dtypes"
   ]
  },
  {
   "cell_type": "code",
   "execution_count": 13,
   "metadata": {},
   "outputs": [
    {
     "data": {
      "text/plain": [
       "Index(['customerid', 'churn', 'tenure', 'preferredlogindevice', 'citytier',\n",
       "       'warehousetohome', 'preferredpaymentmode', 'gender', 'hourspendonapp',\n",
       "       'numberofdeviceregistered', 'preferedordercat', 'satisfactionscore',\n",
       "       'maritalstatus', 'numberofaddress', 'complain',\n",
       "       'orderamounthikefromlastyear', 'couponused', 'ordercount',\n",
       "       'daysincelastorder', 'cashbackamount'],\n",
       "      dtype='object')"
      ]
     },
     "execution_count": 13,
     "metadata": {},
     "output_type": "execute_result"
    }
   ],
   "source": [
    "df.columns"
   ]
  },
  {
   "cell_type": "code",
   "execution_count": 14,
   "metadata": {},
   "outputs": [
    {
     "name": "stdout",
     "output_type": "stream",
     "text": [
      "0    3396\n",
      "1     685\n",
      "Name: churn, dtype: int64\n"
     ]
    }
   ],
   "source": [
    "#check the number of churn and non churn\n",
    "print(df.churn.value_counts())\n"
   ]
  },
  {
   "cell_type": "code",
   "execution_count": 15,
   "metadata": {},
   "outputs": [
    {
     "name": "stdout",
     "output_type": "stream",
     "text": [
      "Churn Percentage: 16.79%\n",
      "Non-Churn Percentage: 83.21%\n"
     ]
    }
   ],
   "source": [
    "# Calculate the count of churn and non-churn values\n",
    "churn_count = df['churn'].sum()\n",
    "non_churn_count = len(df) - churn_count\n",
    "\n",
    "# Calculate the percentage of churn and non-churn values\n",
    "churn_percentage = (df['churn'].sum() / len(df)) * 100\n",
    "non_churn_percentage = 100 - churn_percentage\n",
    "\n",
    "print(f'Churn Percentage: {churn_percentage:.2f}%')\n",
    "print(f'Non-Churn Percentage: {non_churn_percentage:.2f}%')"
   ]
  },
  {
   "cell_type": "code",
   "execution_count": 16,
   "metadata": {},
   "outputs": [
    {
     "data": {
      "application/vnd.plotly.v1+json": {
       "config": {
        "plotlyServerURL": "https://plot.ly"
       },
       "data": [
        {
         "domain": {
          "x": [
           0,
           1
          ],
          "y": [
           0,
           1
          ]
         },
         "hovertemplate": "label=%{label}<br>value=%{value}<extra></extra>",
         "labels": [
          "Churn",
          "Non-Churn"
         ],
         "legendgroup": "",
         "name": "",
         "pull": [
          0,
          0.1
         ],
         "showlegend": true,
         "textinfo": "value+percent",
         "type": "pie",
         "values": [
          685,
          3396
         ]
        }
       ],
       "layout": {
        "legend": {
         "tracegroupgap": 0
        },
        "piecolorway": [
         "green",
         "red"
        ],
        "template": {
         "data": {
          "bar": [
           {
            "error_x": {
             "color": "#2a3f5f"
            },
            "error_y": {
             "color": "#2a3f5f"
            },
            "marker": {
             "line": {
              "color": "#E5ECF6",
              "width": 0.5
             },
             "pattern": {
              "fillmode": "overlay",
              "size": 10,
              "solidity": 0.2
             }
            },
            "type": "bar"
           }
          ],
          "barpolar": [
           {
            "marker": {
             "line": {
              "color": "#E5ECF6",
              "width": 0.5
             },
             "pattern": {
              "fillmode": "overlay",
              "size": 10,
              "solidity": 0.2
             }
            },
            "type": "barpolar"
           }
          ],
          "carpet": [
           {
            "aaxis": {
             "endlinecolor": "#2a3f5f",
             "gridcolor": "white",
             "linecolor": "white",
             "minorgridcolor": "white",
             "startlinecolor": "#2a3f5f"
            },
            "baxis": {
             "endlinecolor": "#2a3f5f",
             "gridcolor": "white",
             "linecolor": "white",
             "minorgridcolor": "white",
             "startlinecolor": "#2a3f5f"
            },
            "type": "carpet"
           }
          ],
          "choropleth": [
           {
            "colorbar": {
             "outlinewidth": 0,
             "ticks": ""
            },
            "type": "choropleth"
           }
          ],
          "contour": [
           {
            "colorbar": {
             "outlinewidth": 0,
             "ticks": ""
            },
            "colorscale": [
             [
              0,
              "#0d0887"
             ],
             [
              0.1111111111111111,
              "#46039f"
             ],
             [
              0.2222222222222222,
              "#7201a8"
             ],
             [
              0.3333333333333333,
              "#9c179e"
             ],
             [
              0.4444444444444444,
              "#bd3786"
             ],
             [
              0.5555555555555556,
              "#d8576b"
             ],
             [
              0.6666666666666666,
              "#ed7953"
             ],
             [
              0.7777777777777778,
              "#fb9f3a"
             ],
             [
              0.8888888888888888,
              "#fdca26"
             ],
             [
              1,
              "#f0f921"
             ]
            ],
            "type": "contour"
           }
          ],
          "contourcarpet": [
           {
            "colorbar": {
             "outlinewidth": 0,
             "ticks": ""
            },
            "type": "contourcarpet"
           }
          ],
          "heatmap": [
           {
            "colorbar": {
             "outlinewidth": 0,
             "ticks": ""
            },
            "colorscale": [
             [
              0,
              "#0d0887"
             ],
             [
              0.1111111111111111,
              "#46039f"
             ],
             [
              0.2222222222222222,
              "#7201a8"
             ],
             [
              0.3333333333333333,
              "#9c179e"
             ],
             [
              0.4444444444444444,
              "#bd3786"
             ],
             [
              0.5555555555555556,
              "#d8576b"
             ],
             [
              0.6666666666666666,
              "#ed7953"
             ],
             [
              0.7777777777777778,
              "#fb9f3a"
             ],
             [
              0.8888888888888888,
              "#fdca26"
             ],
             [
              1,
              "#f0f921"
             ]
            ],
            "type": "heatmap"
           }
          ],
          "heatmapgl": [
           {
            "colorbar": {
             "outlinewidth": 0,
             "ticks": ""
            },
            "colorscale": [
             [
              0,
              "#0d0887"
             ],
             [
              0.1111111111111111,
              "#46039f"
             ],
             [
              0.2222222222222222,
              "#7201a8"
             ],
             [
              0.3333333333333333,
              "#9c179e"
             ],
             [
              0.4444444444444444,
              "#bd3786"
             ],
             [
              0.5555555555555556,
              "#d8576b"
             ],
             [
              0.6666666666666666,
              "#ed7953"
             ],
             [
              0.7777777777777778,
              "#fb9f3a"
             ],
             [
              0.8888888888888888,
              "#fdca26"
             ],
             [
              1,
              "#f0f921"
             ]
            ],
            "type": "heatmapgl"
           }
          ],
          "histogram": [
           {
            "marker": {
             "pattern": {
              "fillmode": "overlay",
              "size": 10,
              "solidity": 0.2
             }
            },
            "type": "histogram"
           }
          ],
          "histogram2d": [
           {
            "colorbar": {
             "outlinewidth": 0,
             "ticks": ""
            },
            "colorscale": [
             [
              0,
              "#0d0887"
             ],
             [
              0.1111111111111111,
              "#46039f"
             ],
             [
              0.2222222222222222,
              "#7201a8"
             ],
             [
              0.3333333333333333,
              "#9c179e"
             ],
             [
              0.4444444444444444,
              "#bd3786"
             ],
             [
              0.5555555555555556,
              "#d8576b"
             ],
             [
              0.6666666666666666,
              "#ed7953"
             ],
             [
              0.7777777777777778,
              "#fb9f3a"
             ],
             [
              0.8888888888888888,
              "#fdca26"
             ],
             [
              1,
              "#f0f921"
             ]
            ],
            "type": "histogram2d"
           }
          ],
          "histogram2dcontour": [
           {
            "colorbar": {
             "outlinewidth": 0,
             "ticks": ""
            },
            "colorscale": [
             [
              0,
              "#0d0887"
             ],
             [
              0.1111111111111111,
              "#46039f"
             ],
             [
              0.2222222222222222,
              "#7201a8"
             ],
             [
              0.3333333333333333,
              "#9c179e"
             ],
             [
              0.4444444444444444,
              "#bd3786"
             ],
             [
              0.5555555555555556,
              "#d8576b"
             ],
             [
              0.6666666666666666,
              "#ed7953"
             ],
             [
              0.7777777777777778,
              "#fb9f3a"
             ],
             [
              0.8888888888888888,
              "#fdca26"
             ],
             [
              1,
              "#f0f921"
             ]
            ],
            "type": "histogram2dcontour"
           }
          ],
          "mesh3d": [
           {
            "colorbar": {
             "outlinewidth": 0,
             "ticks": ""
            },
            "type": "mesh3d"
           }
          ],
          "parcoords": [
           {
            "line": {
             "colorbar": {
              "outlinewidth": 0,
              "ticks": ""
             }
            },
            "type": "parcoords"
           }
          ],
          "pie": [
           {
            "automargin": true,
            "type": "pie"
           }
          ],
          "scatter": [
           {
            "fillpattern": {
             "fillmode": "overlay",
             "size": 10,
             "solidity": 0.2
            },
            "type": "scatter"
           }
          ],
          "scatter3d": [
           {
            "line": {
             "colorbar": {
              "outlinewidth": 0,
              "ticks": ""
             }
            },
            "marker": {
             "colorbar": {
              "outlinewidth": 0,
              "ticks": ""
             }
            },
            "type": "scatter3d"
           }
          ],
          "scattercarpet": [
           {
            "marker": {
             "colorbar": {
              "outlinewidth": 0,
              "ticks": ""
             }
            },
            "type": "scattercarpet"
           }
          ],
          "scattergeo": [
           {
            "marker": {
             "colorbar": {
              "outlinewidth": 0,
              "ticks": ""
             }
            },
            "type": "scattergeo"
           }
          ],
          "scattergl": [
           {
            "marker": {
             "colorbar": {
              "outlinewidth": 0,
              "ticks": ""
             }
            },
            "type": "scattergl"
           }
          ],
          "scattermapbox": [
           {
            "marker": {
             "colorbar": {
              "outlinewidth": 0,
              "ticks": ""
             }
            },
            "type": "scattermapbox"
           }
          ],
          "scatterpolar": [
           {
            "marker": {
             "colorbar": {
              "outlinewidth": 0,
              "ticks": ""
             }
            },
            "type": "scatterpolar"
           }
          ],
          "scatterpolargl": [
           {
            "marker": {
             "colorbar": {
              "outlinewidth": 0,
              "ticks": ""
             }
            },
            "type": "scatterpolargl"
           }
          ],
          "scatterternary": [
           {
            "marker": {
             "colorbar": {
              "outlinewidth": 0,
              "ticks": ""
             }
            },
            "type": "scatterternary"
           }
          ],
          "surface": [
           {
            "colorbar": {
             "outlinewidth": 0,
             "ticks": ""
            },
            "colorscale": [
             [
              0,
              "#0d0887"
             ],
             [
              0.1111111111111111,
              "#46039f"
             ],
             [
              0.2222222222222222,
              "#7201a8"
             ],
             [
              0.3333333333333333,
              "#9c179e"
             ],
             [
              0.4444444444444444,
              "#bd3786"
             ],
             [
              0.5555555555555556,
              "#d8576b"
             ],
             [
              0.6666666666666666,
              "#ed7953"
             ],
             [
              0.7777777777777778,
              "#fb9f3a"
             ],
             [
              0.8888888888888888,
              "#fdca26"
             ],
             [
              1,
              "#f0f921"
             ]
            ],
            "type": "surface"
           }
          ],
          "table": [
           {
            "cells": {
             "fill": {
              "color": "#EBF0F8"
             },
             "line": {
              "color": "white"
             }
            },
            "header": {
             "fill": {
              "color": "#C8D4E3"
             },
             "line": {
              "color": "white"
             }
            },
            "type": "table"
           }
          ]
         },
         "layout": {
          "annotationdefaults": {
           "arrowcolor": "#2a3f5f",
           "arrowhead": 0,
           "arrowwidth": 1
          },
          "autotypenumbers": "strict",
          "coloraxis": {
           "colorbar": {
            "outlinewidth": 0,
            "ticks": ""
           }
          },
          "colorscale": {
           "diverging": [
            [
             0,
             "#8e0152"
            ],
            [
             0.1,
             "#c51b7d"
            ],
            [
             0.2,
             "#de77ae"
            ],
            [
             0.3,
             "#f1b6da"
            ],
            [
             0.4,
             "#fde0ef"
            ],
            [
             0.5,
             "#f7f7f7"
            ],
            [
             0.6,
             "#e6f5d0"
            ],
            [
             0.7,
             "#b8e186"
            ],
            [
             0.8,
             "#7fbc41"
            ],
            [
             0.9,
             "#4d9221"
            ],
            [
             1,
             "#276419"
            ]
           ],
           "sequential": [
            [
             0,
             "#0d0887"
            ],
            [
             0.1111111111111111,
             "#46039f"
            ],
            [
             0.2222222222222222,
             "#7201a8"
            ],
            [
             0.3333333333333333,
             "#9c179e"
            ],
            [
             0.4444444444444444,
             "#bd3786"
            ],
            [
             0.5555555555555556,
             "#d8576b"
            ],
            [
             0.6666666666666666,
             "#ed7953"
            ],
            [
             0.7777777777777778,
             "#fb9f3a"
            ],
            [
             0.8888888888888888,
             "#fdca26"
            ],
            [
             1,
             "#f0f921"
            ]
           ],
           "sequentialminus": [
            [
             0,
             "#0d0887"
            ],
            [
             0.1111111111111111,
             "#46039f"
            ],
            [
             0.2222222222222222,
             "#7201a8"
            ],
            [
             0.3333333333333333,
             "#9c179e"
            ],
            [
             0.4444444444444444,
             "#bd3786"
            ],
            [
             0.5555555555555556,
             "#d8576b"
            ],
            [
             0.6666666666666666,
             "#ed7953"
            ],
            [
             0.7777777777777778,
             "#fb9f3a"
            ],
            [
             0.8888888888888888,
             "#fdca26"
            ],
            [
             1,
             "#f0f921"
            ]
           ]
          },
          "colorway": [
           "#636efa",
           "#EF553B",
           "#00cc96",
           "#ab63fa",
           "#FFA15A",
           "#19d3f3",
           "#FF6692",
           "#B6E880",
           "#FF97FF",
           "#FECB52"
          ],
          "font": {
           "color": "#2a3f5f"
          },
          "geo": {
           "bgcolor": "white",
           "lakecolor": "white",
           "landcolor": "#E5ECF6",
           "showlakes": true,
           "showland": true,
           "subunitcolor": "white"
          },
          "hoverlabel": {
           "align": "left"
          },
          "hovermode": "closest",
          "mapbox": {
           "style": "light"
          },
          "paper_bgcolor": "white",
          "plot_bgcolor": "#E5ECF6",
          "polar": {
           "angularaxis": {
            "gridcolor": "white",
            "linecolor": "white",
            "ticks": ""
           },
           "bgcolor": "#E5ECF6",
           "radialaxis": {
            "gridcolor": "white",
            "linecolor": "white",
            "ticks": ""
           }
          },
          "scene": {
           "xaxis": {
            "backgroundcolor": "#E5ECF6",
            "gridcolor": "white",
            "gridwidth": 2,
            "linecolor": "white",
            "showbackground": true,
            "ticks": "",
            "zerolinecolor": "white"
           },
           "yaxis": {
            "backgroundcolor": "#E5ECF6",
            "gridcolor": "white",
            "gridwidth": 2,
            "linecolor": "white",
            "showbackground": true,
            "ticks": "",
            "zerolinecolor": "white"
           },
           "zaxis": {
            "backgroundcolor": "#E5ECF6",
            "gridcolor": "white",
            "gridwidth": 2,
            "linecolor": "white",
            "showbackground": true,
            "ticks": "",
            "zerolinecolor": "white"
           }
          },
          "shapedefaults": {
           "line": {
            "color": "#2a3f5f"
           }
          },
          "ternary": {
           "aaxis": {
            "gridcolor": "white",
            "linecolor": "white",
            "ticks": ""
           },
           "baxis": {
            "gridcolor": "white",
            "linecolor": "white",
            "ticks": ""
           },
           "bgcolor": "#E5ECF6",
           "caxis": {
            "gridcolor": "white",
            "linecolor": "white",
            "ticks": ""
           }
          },
          "title": {
           "x": 0.05
          },
          "xaxis": {
           "automargin": true,
           "gridcolor": "white",
           "linecolor": "white",
           "ticks": "",
           "title": {
            "standoff": 15
           },
           "zerolinecolor": "white",
           "zerolinewidth": 2
          },
          "yaxis": {
           "automargin": true,
           "gridcolor": "white",
           "linecolor": "white",
           "ticks": "",
           "title": {
            "standoff": 15
           },
           "zerolinecolor": "white",
           "zerolinewidth": 2
          }
         }
        },
        "title": {
         "text": "% of Churn vs. Non-Churn"
        }
       }
      }
     },
     "metadata": {},
     "output_type": "display_data"
    }
   ],
   "source": [
    "# visualze the % of churn and non churn\n",
    "fig = px.pie(\n",
    "    names=['Churn', 'Non-Churn'],\n",
    "    values=[churn_count, non_churn_count],\n",
    "    title='% of Churn vs. Non-Churn',\n",
    "    color_discrete_sequence=[ 'green', 'red'],\n",
    ")\n",
    "\n",
    "# Add annotations to display both count and percentage\n",
    "fig.update_traces(textinfo='value+percent', pull=[0, 0.1])\n",
    "fig.show()\n"
   ]
  },
  {
   "cell_type": "code",
   "execution_count": 17,
   "metadata": {},
   "outputs": [
    {
     "data": {
      "image/png": "[encoded data removed]",
      "text/plain": [
       "<Figure size 2000x1000 with 2 Axes>"
      ]
     },
     "metadata": {},
     "output_type": "display_data"
    }
   ],
   "source": [
    "#check the correlation to see the values impacting the churn level\n",
    "# Calculate the correlation matrix\n",
    "correlation_matrix = df.corr()\n",
    "\n",
    "# Create a correlation heatmap using Seaborn\n",
    "plt.figure(figsize=(20, 10))\n",
    "sns.heatmap(correlation_matrix, annot=True, cmap='coolwarm', fmt='.2f', square=True)\n",
    "\n",
    "# Set the title\n",
    "plt.title('Correlation Heatmap')\n",
    "\n",
    "# Display the heatmap\n",
    "plt.show()"
   ]
  },
  {
   "cell_type": "code",
   "execution_count": 18,
   "metadata": {},
   "outputs": [],
   "source": [
    "# # Result \n",
    "# weak positive correlation between churn and complain(0.23), \n",
    "    # churn and numberofdeviceregistered (0.15), churn and satisfactionscore(0.10)"
   ]
  },
  {
   "cell_type": "code",
   "execution_count": 19,
   "metadata": {},
   "outputs": [
    {
     "data": {
      "text/plain": [
       "complain                    2\n",
       "numberofdeviceregistered    6\n",
       "satisfactionscore           5\n",
       "dtype: int64"
      ]
     },
     "execution_count": 19,
     "metadata": {},
     "output_type": "execute_result"
    }
   ],
   "source": [
    "df[['complain', 'numberofdeviceregistered', 'satisfactionscore']].nunique()"
   ]
  },
  {
   "cell_type": "code",
   "execution_count": 20,
   "metadata": {},
   "outputs": [
    {
     "data": {
      "text/html": [
       "<div>\n",
       "<style scoped>\n",
       "    .dataframe tbody tr th:only-of-type {\n",
       "        vertical-align: middle;\n",
       "    }\n",
       "\n",
       "    .dataframe tbody tr th {\n",
       "        vertical-align: top;\n",
       "    }\n",
       "\n",
       "    .dataframe thead th {\n",
       "        text-align: right;\n",
       "    }\n",
       "</style>\n",
       "<table border=\"1\" class=\"dataframe\">\n",
       "  <thead>\n",
       "    <tr style=\"text-align: right;\">\n",
       "      <th>churn</th>\n",
       "      <th>0</th>\n",
       "      <th>1</th>\n",
       "    </tr>\n",
       "    <tr>\n",
       "      <th>complain</th>\n",
       "      <th></th>\n",
       "      <th></th>\n",
       "    </tr>\n",
       "  </thead>\n",
       "  <tbody>\n",
       "    <tr>\n",
       "      <th>0</th>\n",
       "      <td>2599</td>\n",
       "      <td>334</td>\n",
       "    </tr>\n",
       "    <tr>\n",
       "      <th>1</th>\n",
       "      <td>797</td>\n",
       "      <td>351</td>\n",
       "    </tr>\n",
       "  </tbody>\n",
       "</table>\n",
       "</div>"
      ],
      "text/plain": [
       "churn        0    1\n",
       "complain           \n",
       "0         2599  334\n",
       "1          797  351"
      ]
     },
     "execution_count": 20,
     "metadata": {},
     "output_type": "execute_result"
    }
   ],
   "source": [
    "complain = df.groupby('complain')['churn'].value_counts().unstack(fill_value=0)\n",
    "complain"
   ]
  },
  {
   "cell_type": "code",
   "execution_count": 21,
   "metadata": {},
   "outputs": [
    {
     "data": {
      "text/html": [
       "<div>\n",
       "<style scoped>\n",
       "    .dataframe tbody tr th:only-of-type {\n",
       "        vertical-align: middle;\n",
       "    }\n",
       "\n",
       "    .dataframe tbody tr th {\n",
       "        vertical-align: top;\n",
       "    }\n",
       "\n",
       "    .dataframe thead th {\n",
       "        text-align: right;\n",
       "    }\n",
       "</style>\n",
       "<table border=\"1\" class=\"dataframe\">\n",
       "  <thead>\n",
       "    <tr style=\"text-align: right;\">\n",
       "      <th>churn</th>\n",
       "      <th>0</th>\n",
       "      <th>1</th>\n",
       "    </tr>\n",
       "    <tr>\n",
       "      <th>numberofdeviceregistered</th>\n",
       "      <th></th>\n",
       "      <th></th>\n",
       "    </tr>\n",
       "  </thead>\n",
       "  <tbody>\n",
       "    <tr>\n",
       "      <th>1</th>\n",
       "      <td>128</td>\n",
       "      <td>8</td>\n",
       "    </tr>\n",
       "    <tr>\n",
       "      <th>2</th>\n",
       "      <td>207</td>\n",
       "      <td>20</td>\n",
       "    </tr>\n",
       "    <tr>\n",
       "      <th>3</th>\n",
       "      <td>893</td>\n",
       "      <td>126</td>\n",
       "    </tr>\n",
       "    <tr>\n",
       "      <th>4</th>\n",
       "      <td>1537</td>\n",
       "      <td>309</td>\n",
       "    </tr>\n",
       "    <tr>\n",
       "      <th>5</th>\n",
       "      <td>541</td>\n",
       "      <td>170</td>\n",
       "    </tr>\n",
       "    <tr>\n",
       "      <th>6</th>\n",
       "      <td>90</td>\n",
       "      <td>52</td>\n",
       "    </tr>\n",
       "  </tbody>\n",
       "</table>\n",
       "</div>"
      ],
      "text/plain": [
       "churn                        0    1\n",
       "numberofdeviceregistered           \n",
       "1                          128    8\n",
       "2                          207   20\n",
       "3                          893  126\n",
       "4                         1537  309\n",
       "5                          541  170\n",
       "6                           90   52"
      ]
     },
     "execution_count": 21,
     "metadata": {},
     "output_type": "execute_result"
    }
   ],
   "source": [
    "satis = df.groupby('numberofdeviceregistered')['churn'].value_counts().unstack(fill_value=0)\n",
    "satis"
   ]
  },
  {
   "cell_type": "code",
   "execution_count": 22,
   "metadata": {},
   "outputs": [
    {
     "data": {
      "text/html": [
       "<div>\n",
       "<style scoped>\n",
       "    .dataframe tbody tr th:only-of-type {\n",
       "        vertical-align: middle;\n",
       "    }\n",
       "\n",
       "    .dataframe tbody tr th {\n",
       "        vertical-align: top;\n",
       "    }\n",
       "\n",
       "    .dataframe thead th {\n",
       "        text-align: right;\n",
       "    }\n",
       "</style>\n",
       "<table border=\"1\" class=\"dataframe\">\n",
       "  <thead>\n",
       "    <tr style=\"text-align: right;\">\n",
       "      <th></th>\n",
       "      <th></th>\n",
       "      <th>churn</th>\n",
       "      <th>0</th>\n",
       "      <th>1</th>\n",
       "    </tr>\n",
       "    <tr>\n",
       "      <th>complain</th>\n",
       "      <th>numberofdeviceregistered</th>\n",
       "      <th>satisfactionscore</th>\n",
       "      <th></th>\n",
       "      <th></th>\n",
       "    </tr>\n",
       "  </thead>\n",
       "  <tbody>\n",
       "    <tr>\n",
       "      <th rowspan=\"30\" valign=\"top\">0</th>\n",
       "      <th rowspan=\"5\" valign=\"top\">1</th>\n",
       "      <th>1</th>\n",
       "      <td>19</td>\n",
       "      <td>0</td>\n",
       "    </tr>\n",
       "    <tr>\n",
       "      <th>2</th>\n",
       "      <td>5</td>\n",
       "      <td>0</td>\n",
       "    </tr>\n",
       "    <tr>\n",
       "      <th>3</th>\n",
       "      <td>38</td>\n",
       "      <td>1</td>\n",
       "    </tr>\n",
       "    <tr>\n",
       "      <th>4</th>\n",
       "      <td>10</td>\n",
       "      <td>2</td>\n",
       "    </tr>\n",
       "    <tr>\n",
       "      <th>5</th>\n",
       "      <td>26</td>\n",
       "      <td>2</td>\n",
       "    </tr>\n",
       "    <tr>\n",
       "      <th rowspan=\"5\" valign=\"top\">2</th>\n",
       "      <th>1</th>\n",
       "      <td>30</td>\n",
       "      <td>0</td>\n",
       "    </tr>\n",
       "    <tr>\n",
       "      <th>2</th>\n",
       "      <td>17</td>\n",
       "      <td>0</td>\n",
       "    </tr>\n",
       "    <tr>\n",
       "      <th>3</th>\n",
       "      <td>55</td>\n",
       "      <td>2</td>\n",
       "    </tr>\n",
       "    <tr>\n",
       "      <th>4</th>\n",
       "      <td>23</td>\n",
       "      <td>3</td>\n",
       "    </tr>\n",
       "    <tr>\n",
       "      <th>5</th>\n",
       "      <td>32</td>\n",
       "      <td>6</td>\n",
       "    </tr>\n",
       "    <tr>\n",
       "      <th rowspan=\"5\" valign=\"top\">3</th>\n",
       "      <th>1</th>\n",
       "      <td>140</td>\n",
       "      <td>10</td>\n",
       "    </tr>\n",
       "    <tr>\n",
       "      <th>2</th>\n",
       "      <td>79</td>\n",
       "      <td>6</td>\n",
       "    </tr>\n",
       "    <tr>\n",
       "      <th>3</th>\n",
       "      <td>190</td>\n",
       "      <td>21</td>\n",
       "    </tr>\n",
       "    <tr>\n",
       "      <th>4</th>\n",
       "      <td>143</td>\n",
       "      <td>11</td>\n",
       "    </tr>\n",
       "    <tr>\n",
       "      <th>5</th>\n",
       "      <td>112</td>\n",
       "      <td>16</td>\n",
       "    </tr>\n",
       "    <tr>\n",
       "      <th rowspan=\"5\" valign=\"top\">4</th>\n",
       "      <th>1</th>\n",
       "      <td>258</td>\n",
       "      <td>17</td>\n",
       "    </tr>\n",
       "    <tr>\n",
       "      <th>2</th>\n",
       "      <td>130</td>\n",
       "      <td>9</td>\n",
       "    </tr>\n",
       "    <tr>\n",
       "      <th>3</th>\n",
       "      <td>338</td>\n",
       "      <td>44</td>\n",
       "    </tr>\n",
       "    <tr>\n",
       "      <th>4</th>\n",
       "      <td>248</td>\n",
       "      <td>22</td>\n",
       "    </tr>\n",
       "    <tr>\n",
       "      <th>5</th>\n",
       "      <td>209</td>\n",
       "      <td>52</td>\n",
       "    </tr>\n",
       "    <tr>\n",
       "      <th rowspan=\"5\" valign=\"top\">5</th>\n",
       "      <th>1</th>\n",
       "      <td>82</td>\n",
       "      <td>13</td>\n",
       "    </tr>\n",
       "    <tr>\n",
       "      <th>2</th>\n",
       "      <td>45</td>\n",
       "      <td>7</td>\n",
       "    </tr>\n",
       "    <tr>\n",
       "      <th>3</th>\n",
       "      <td>134</td>\n",
       "      <td>14</td>\n",
       "    </tr>\n",
       "    <tr>\n",
       "      <th>4</th>\n",
       "      <td>81</td>\n",
       "      <td>16</td>\n",
       "    </tr>\n",
       "    <tr>\n",
       "      <th>5</th>\n",
       "      <td>82</td>\n",
       "      <td>32</td>\n",
       "    </tr>\n",
       "    <tr>\n",
       "      <th rowspan=\"5\" valign=\"top\">6</th>\n",
       "      <th>1</th>\n",
       "      <td>17</td>\n",
       "      <td>4</td>\n",
       "    </tr>\n",
       "    <tr>\n",
       "      <th>2</th>\n",
       "      <td>7</td>\n",
       "      <td>4</td>\n",
       "    </tr>\n",
       "    <tr>\n",
       "      <th>3</th>\n",
       "      <td>31</td>\n",
       "      <td>10</td>\n",
       "    </tr>\n",
       "    <tr>\n",
       "      <th>4</th>\n",
       "      <td>8</td>\n",
       "      <td>6</td>\n",
       "    </tr>\n",
       "    <tr>\n",
       "      <th>5</th>\n",
       "      <td>10</td>\n",
       "      <td>4</td>\n",
       "    </tr>\n",
       "    <tr>\n",
       "      <th rowspan=\"30\" valign=\"top\">1</th>\n",
       "      <th rowspan=\"5\" valign=\"top\">1</th>\n",
       "      <th>1</th>\n",
       "      <td>6</td>\n",
       "      <td>1</td>\n",
       "    </tr>\n",
       "    <tr>\n",
       "      <th>2</th>\n",
       "      <td>2</td>\n",
       "      <td>0</td>\n",
       "    </tr>\n",
       "    <tr>\n",
       "      <th>3</th>\n",
       "      <td>7</td>\n",
       "      <td>2</td>\n",
       "    </tr>\n",
       "    <tr>\n",
       "      <th>4</th>\n",
       "      <td>5</td>\n",
       "      <td>0</td>\n",
       "    </tr>\n",
       "    <tr>\n",
       "      <th>5</th>\n",
       "      <td>10</td>\n",
       "      <td>0</td>\n",
       "    </tr>\n",
       "    <tr>\n",
       "      <th rowspan=\"5\" valign=\"top\">2</th>\n",
       "      <th>1</th>\n",
       "      <td>12</td>\n",
       "      <td>1</td>\n",
       "    </tr>\n",
       "    <tr>\n",
       "      <th>2</th>\n",
       "      <td>6</td>\n",
       "      <td>1</td>\n",
       "    </tr>\n",
       "    <tr>\n",
       "      <th>3</th>\n",
       "      <td>11</td>\n",
       "      <td>5</td>\n",
       "    </tr>\n",
       "    <tr>\n",
       "      <th>4</th>\n",
       "      <td>8</td>\n",
       "      <td>0</td>\n",
       "    </tr>\n",
       "    <tr>\n",
       "      <th>5</th>\n",
       "      <td>13</td>\n",
       "      <td>2</td>\n",
       "    </tr>\n",
       "    <tr>\n",
       "      <th rowspan=\"5\" valign=\"top\">3</th>\n",
       "      <th>1</th>\n",
       "      <td>61</td>\n",
       "      <td>13</td>\n",
       "    </tr>\n",
       "    <tr>\n",
       "      <th>2</th>\n",
       "      <td>24</td>\n",
       "      <td>4</td>\n",
       "    </tr>\n",
       "    <tr>\n",
       "      <th>3</th>\n",
       "      <td>72</td>\n",
       "      <td>21</td>\n",
       "    </tr>\n",
       "    <tr>\n",
       "      <th>4</th>\n",
       "      <td>24</td>\n",
       "      <td>8</td>\n",
       "    </tr>\n",
       "    <tr>\n",
       "      <th>5</th>\n",
       "      <td>48</td>\n",
       "      <td>16</td>\n",
       "    </tr>\n",
       "    <tr>\n",
       "      <th rowspan=\"5\" valign=\"top\">4</th>\n",
       "      <th>1</th>\n",
       "      <td>98</td>\n",
       "      <td>26</td>\n",
       "    </tr>\n",
       "    <tr>\n",
       "      <th>2</th>\n",
       "      <td>43</td>\n",
       "      <td>12</td>\n",
       "    </tr>\n",
       "    <tr>\n",
       "      <th>3</th>\n",
       "      <td>102</td>\n",
       "      <td>54</td>\n",
       "    </tr>\n",
       "    <tr>\n",
       "      <th>4</th>\n",
       "      <td>54</td>\n",
       "      <td>33</td>\n",
       "    </tr>\n",
       "    <tr>\n",
       "      <th>5</th>\n",
       "      <td>57</td>\n",
       "      <td>40</td>\n",
       "    </tr>\n",
       "    <tr>\n",
       "      <th rowspan=\"5\" valign=\"top\">5</th>\n",
       "      <th>1</th>\n",
       "      <td>32</td>\n",
       "      <td>12</td>\n",
       "    </tr>\n",
       "    <tr>\n",
       "      <th>2</th>\n",
       "      <td>15</td>\n",
       "      <td>8</td>\n",
       "    </tr>\n",
       "    <tr>\n",
       "      <th>3</th>\n",
       "      <td>25</td>\n",
       "      <td>32</td>\n",
       "    </tr>\n",
       "    <tr>\n",
       "      <th>4</th>\n",
       "      <td>29</td>\n",
       "      <td>18</td>\n",
       "    </tr>\n",
       "    <tr>\n",
       "      <th>5</th>\n",
       "      <td>16</td>\n",
       "      <td>18</td>\n",
       "    </tr>\n",
       "    <tr>\n",
       "      <th rowspan=\"5\" valign=\"top\">6</th>\n",
       "      <th>1</th>\n",
       "      <td>9</td>\n",
       "      <td>6</td>\n",
       "    </tr>\n",
       "    <tr>\n",
       "      <th>2</th>\n",
       "      <td>2</td>\n",
       "      <td>4</td>\n",
       "    </tr>\n",
       "    <tr>\n",
       "      <th>3</th>\n",
       "      <td>2</td>\n",
       "      <td>6</td>\n",
       "    </tr>\n",
       "    <tr>\n",
       "      <th>4</th>\n",
       "      <td>0</td>\n",
       "      <td>2</td>\n",
       "    </tr>\n",
       "    <tr>\n",
       "      <th>5</th>\n",
       "      <td>4</td>\n",
       "      <td>6</td>\n",
       "    </tr>\n",
       "  </tbody>\n",
       "</table>\n",
       "</div>"
      ],
      "text/plain": [
       "churn                                                  0   1\n",
       "complain numberofdeviceregistered satisfactionscore         \n",
       "0        1                        1                   19   0\n",
       "                                  2                    5   0\n",
       "                                  3                   38   1\n",
       "                                  4                   10   2\n",
       "                                  5                   26   2\n",
       "         2                        1                   30   0\n",
       "                                  2                   17   0\n",
       "                                  3                   55   2\n",
       "                                  4                   23   3\n",
       "                                  5                   32   6\n",
       "         3                        1                  140  10\n",
       "                                  2                   79   6\n",
       "                                  3                  190  21\n",
       "                                  4                  143  11\n",
       "                                  5                  112  16\n",
       "         4                        1                  258  17\n",
       "                                  2                  130   9\n",
       "                                  3                  338  44\n",
       "                                  4                  248  22\n",
       "                                  5                  209  52\n",
       "         5                        1                   82  13\n",
       "                                  2                   45   7\n",
       "                                  3                  134  14\n",
       "                                  4                   81  16\n",
       "                                  5                   82  32\n",
       "         6                        1                   17   4\n",
       "                                  2                    7   4\n",
       "                                  3                   31  10\n",
       "                                  4                    8   6\n",
       "                                  5                   10   4\n",
       "1        1                        1                    6   1\n",
       "                                  2                    2   0\n",
       "                                  3                    7   2\n",
       "                                  4                    5   0\n",
       "                                  5                   10   0\n",
       "         2                        1                   12   1\n",
       "                                  2                    6   1\n",
       "                                  3                   11   5\n",
       "                                  4                    8   0\n",
       "                                  5                   13   2\n",
       "         3                        1                   61  13\n",
       "                                  2                   24   4\n",
       "                                  3                   72  21\n",
       "                                  4                   24   8\n",
       "                                  5                   48  16\n",
       "         4                        1                   98  26\n",
       "                                  2                   43  12\n",
       "                                  3                  102  54\n",
       "                                  4                   54  33\n",
       "                                  5                   57  40\n",
       "         5                        1                   32  12\n",
       "                                  2                   15   8\n",
       "                                  3                   25  32\n",
       "                                  4                   29  18\n",
       "                                  5                   16  18\n",
       "         6                        1                    9   6\n",
       "                                  2                    2   4\n",
       "                                  3                    2   6\n",
       "                                  4                    0   2\n",
       "                                  5                    4   6"
      ]
     },
     "execution_count": 22,
     "metadata": {},
     "output_type": "execute_result"
    }
   ],
   "source": [
    "# Group by 'daysincelastorder' by count of non churn and churn values (0 and 1)\n",
    "    # (to identify if the customer churning are old or new customer)\n",
    "grouped = df.groupby(['complain', 'numberofdeviceregistered', 'satisfactionscore'])['churn'].value_counts().unstack(fill_value=0)\n",
    "grouped"
   ]
  },
  {
   "cell_type": "code",
   "execution_count": 23,
   "metadata": {},
   "outputs": [
    {
     "data": {
      "image/png": "[encoded data removed]",
      "text/plain": [
       "<Figure size 800x500 with 1 Axes>"
      ]
     },
     "metadata": {},
     "output_type": "display_data"
    },
    {
     "data": {
      "image/png": "[encoded data removed]",
      "text/plain": [
       "<Figure size 800x500 with 1 Axes>"
      ]
     },
     "metadata": {},
     "output_type": "display_data"
    },
    {
     "data": {
      "image/png": "[encoded data removed]",
      "text/plain": [
       "<Figure size 800x500 with 1 Axes>"
      ]
     },
     "metadata": {},
     "output_type": "display_data"
    }
   ],
   "source": [
    "# Create three separate bar charts, one for each variable\n",
    "variables = ['complain', 'numberofdeviceregistered', 'satisfactionscore']\n",
    "\n",
    "# Define colors for churn and non-churn\n",
    "colors = {1: 'red', 0: 'green'}\n",
    "\n",
    "for variable in variables:\n",
    "    # Group the data\n",
    "    grouped = df.groupby([variable, 'churn'])['churn'].count().unstack(fill_value=0)\n",
    "\n",
    "    # Plot the data using a bar chart with custom colors\n",
    "    plt.figure(figsize=(8, 5))\n",
    "    ax = plt.subplot(111)\n",
    "    grouped.plot(kind='bar', stacked=True, ax=ax, color=[colors[churn] for churn in grouped.columns])\n",
    "    plt.title(f'{variable} vs Churn')\n",
    "    plt.xlabel(variable)\n",
    "    plt.ylabel('Count')\n",
    "    plt.legend(title='Churn', labels=['Non-Churn', 'Churn'])\n",
    "\n",
    "\n",
    "    plt.show()"
   ]
  },
  {
   "cell_type": "markdown",
   "metadata": {},
   "source": [
    "## Feature Enginnering "
   ]
  },
  {
   "cell_type": "code",
   "execution_count": 24,
   "metadata": {},
   "outputs": [
    {
     "data": {
      "text/plain": [
       "array([ 4.,  0., 11.,  9., 19., 20., 14.,  8.,  5.,  2., 30., 13.,  3.,\n",
       "       18., 29., 23., 26.,  7., 10., 15., 22.,  1., 24., 27., 25., 12.,\n",
       "       28.,  6., 16., 21., 17., 50., 31., 51.])"
      ]
     },
     "execution_count": 24,
     "metadata": {},
     "output_type": "execute_result"
    }
   ],
   "source": [
    "df.tenure.unique()"
   ]
  },
  {
   "cell_type": "code",
   "execution_count": 25,
   "metadata": {},
   "outputs": [
    {
     "data": {
      "text/html": [
       "<div>\n",
       "<style scoped>\n",
       "    .dataframe tbody tr th:only-of-type {\n",
       "        vertical-align: middle;\n",
       "    }\n",
       "\n",
       "    .dataframe tbody tr th {\n",
       "        vertical-align: top;\n",
       "    }\n",
       "\n",
       "    .dataframe thead th {\n",
       "        text-align: right;\n",
       "    }\n",
       "</style>\n",
       "<table border=\"1\" class=\"dataframe\">\n",
       "  <thead>\n",
       "    <tr style=\"text-align: right;\">\n",
       "      <th></th>\n",
       "      <th>customerid</th>\n",
       "      <th>churn</th>\n",
       "      <th>tenure</th>\n",
       "      <th>preferredlogindevice</th>\n",
       "      <th>citytier</th>\n",
       "      <th>warehousetohome</th>\n",
       "      <th>preferredpaymentmode</th>\n",
       "      <th>gender</th>\n",
       "      <th>hourspendonapp</th>\n",
       "      <th>numberofdeviceregistered</th>\n",
       "      <th>...</th>\n",
       "      <th>satisfactionscore</th>\n",
       "      <th>maritalstatus</th>\n",
       "      <th>numberofaddress</th>\n",
       "      <th>complain</th>\n",
       "      <th>orderamounthikefromlastyear</th>\n",
       "      <th>couponused</th>\n",
       "      <th>ordercount</th>\n",
       "      <th>daysincelastorder</th>\n",
       "      <th>cashbackamount</th>\n",
       "      <th>tenure_group</th>\n",
       "    </tr>\n",
       "  </thead>\n",
       "  <tbody>\n",
       "    <tr>\n",
       "      <th>0</th>\n",
       "      <td>50001</td>\n",
       "      <td>1</td>\n",
       "      <td>4.0</td>\n",
       "      <td>Mobile Phone</td>\n",
       "      <td>3</td>\n",
       "      <td>6.0</td>\n",
       "      <td>Debit Card</td>\n",
       "      <td>Female</td>\n",
       "      <td>3.0</td>\n",
       "      <td>3</td>\n",
       "      <td>...</td>\n",
       "      <td>2</td>\n",
       "      <td>Single</td>\n",
       "      <td>9</td>\n",
       "      <td>1</td>\n",
       "      <td>11.0</td>\n",
       "      <td>1.0</td>\n",
       "      <td>1.0</td>\n",
       "      <td>5.0</td>\n",
       "      <td>159.93</td>\n",
       "      <td>New</td>\n",
       "    </tr>\n",
       "    <tr>\n",
       "      <th>1</th>\n",
       "      <td>50004</td>\n",
       "      <td>1</td>\n",
       "      <td>0.0</td>\n",
       "      <td>Phone</td>\n",
       "      <td>3</td>\n",
       "      <td>15.0</td>\n",
       "      <td>Debit Card</td>\n",
       "      <td>Male</td>\n",
       "      <td>2.0</td>\n",
       "      <td>4</td>\n",
       "      <td>...</td>\n",
       "      <td>5</td>\n",
       "      <td>Single</td>\n",
       "      <td>8</td>\n",
       "      <td>0</td>\n",
       "      <td>23.0</td>\n",
       "      <td>0.0</td>\n",
       "      <td>1.0</td>\n",
       "      <td>3.0</td>\n",
       "      <td>134.07</td>\n",
       "      <td>New</td>\n",
       "    </tr>\n",
       "    <tr>\n",
       "      <th>2</th>\n",
       "      <td>50006</td>\n",
       "      <td>1</td>\n",
       "      <td>0.0</td>\n",
       "      <td>Computer</td>\n",
       "      <td>1</td>\n",
       "      <td>22.0</td>\n",
       "      <td>Debit Card</td>\n",
       "      <td>Female</td>\n",
       "      <td>3.0</td>\n",
       "      <td>5</td>\n",
       "      <td>...</td>\n",
       "      <td>5</td>\n",
       "      <td>Single</td>\n",
       "      <td>2</td>\n",
       "      <td>1</td>\n",
       "      <td>22.0</td>\n",
       "      <td>4.0</td>\n",
       "      <td>6.0</td>\n",
       "      <td>7.0</td>\n",
       "      <td>139.19</td>\n",
       "      <td>New</td>\n",
       "    </tr>\n",
       "    <tr>\n",
       "      <th>3</th>\n",
       "      <td>50012</td>\n",
       "      <td>1</td>\n",
       "      <td>11.0</td>\n",
       "      <td>Mobile Phone</td>\n",
       "      <td>1</td>\n",
       "      <td>6.0</td>\n",
       "      <td>Debit Card</td>\n",
       "      <td>Male</td>\n",
       "      <td>3.0</td>\n",
       "      <td>4</td>\n",
       "      <td>...</td>\n",
       "      <td>3</td>\n",
       "      <td>Single</td>\n",
       "      <td>10</td>\n",
       "      <td>1</td>\n",
       "      <td>13.0</td>\n",
       "      <td>0.0</td>\n",
       "      <td>1.0</td>\n",
       "      <td>0.0</td>\n",
       "      <td>153.81</td>\n",
       "      <td>Intermediate</td>\n",
       "    </tr>\n",
       "    <tr>\n",
       "      <th>4</th>\n",
       "      <td>50013</td>\n",
       "      <td>1</td>\n",
       "      <td>0.0</td>\n",
       "      <td>Phone</td>\n",
       "      <td>1</td>\n",
       "      <td>11.0</td>\n",
       "      <td>COD</td>\n",
       "      <td>Male</td>\n",
       "      <td>2.0</td>\n",
       "      <td>3</td>\n",
       "      <td>...</td>\n",
       "      <td>3</td>\n",
       "      <td>Single</td>\n",
       "      <td>2</td>\n",
       "      <td>1</td>\n",
       "      <td>13.0</td>\n",
       "      <td>2.0</td>\n",
       "      <td>2.0</td>\n",
       "      <td>2.0</td>\n",
       "      <td>134.41</td>\n",
       "      <td>New</td>\n",
       "    </tr>\n",
       "    <tr>\n",
       "      <th>...</th>\n",
       "      <td>...</td>\n",
       "      <td>...</td>\n",
       "      <td>...</td>\n",
       "      <td>...</td>\n",
       "      <td>...</td>\n",
       "      <td>...</td>\n",
       "      <td>...</td>\n",
       "      <td>...</td>\n",
       "      <td>...</td>\n",
       "      <td>...</td>\n",
       "      <td>...</td>\n",
       "      <td>...</td>\n",
       "      <td>...</td>\n",
       "      <td>...</td>\n",
       "      <td>...</td>\n",
       "      <td>...</td>\n",
       "      <td>...</td>\n",
       "      <td>...</td>\n",
       "      <td>...</td>\n",
       "      <td>...</td>\n",
       "      <td>...</td>\n",
       "    </tr>\n",
       "    <tr>\n",
       "      <th>95</th>\n",
       "      <td>50175</td>\n",
       "      <td>0</td>\n",
       "      <td>24.0</td>\n",
       "      <td>Mobile Phone</td>\n",
       "      <td>1</td>\n",
       "      <td>8.0</td>\n",
       "      <td>Credit Card</td>\n",
       "      <td>Male</td>\n",
       "      <td>2.0</td>\n",
       "      <td>5</td>\n",
       "      <td>...</td>\n",
       "      <td>4</td>\n",
       "      <td>Married</td>\n",
       "      <td>6</td>\n",
       "      <td>0</td>\n",
       "      <td>18.0</td>\n",
       "      <td>0.0</td>\n",
       "      <td>1.0</td>\n",
       "      <td>2.0</td>\n",
       "      <td>154.82</td>\n",
       "      <td>Loyal</td>\n",
       "    </tr>\n",
       "    <tr>\n",
       "      <th>96</th>\n",
       "      <td>50177</td>\n",
       "      <td>0</td>\n",
       "      <td>0.0</td>\n",
       "      <td>Mobile Phone</td>\n",
       "      <td>3</td>\n",
       "      <td>16.0</td>\n",
       "      <td>Credit Card</td>\n",
       "      <td>Female</td>\n",
       "      <td>3.0</td>\n",
       "      <td>4</td>\n",
       "      <td>...</td>\n",
       "      <td>3</td>\n",
       "      <td>Single</td>\n",
       "      <td>2</td>\n",
       "      <td>0</td>\n",
       "      <td>12.0</td>\n",
       "      <td>1.0</td>\n",
       "      <td>1.0</td>\n",
       "      <td>0.0</td>\n",
       "      <td>112.00</td>\n",
       "      <td>New</td>\n",
       "    </tr>\n",
       "    <tr>\n",
       "      <th>97</th>\n",
       "      <td>50178</td>\n",
       "      <td>0</td>\n",
       "      <td>1.0</td>\n",
       "      <td>Mobile Phone</td>\n",
       "      <td>1</td>\n",
       "      <td>22.0</td>\n",
       "      <td>Credit Card</td>\n",
       "      <td>Male</td>\n",
       "      <td>3.0</td>\n",
       "      <td>2</td>\n",
       "      <td>...</td>\n",
       "      <td>5</td>\n",
       "      <td>Single</td>\n",
       "      <td>1</td>\n",
       "      <td>0</td>\n",
       "      <td>19.0</td>\n",
       "      <td>0.0</td>\n",
       "      <td>1.0</td>\n",
       "      <td>7.0</td>\n",
       "      <td>156.61</td>\n",
       "      <td>New</td>\n",
       "    </tr>\n",
       "    <tr>\n",
       "      <th>98</th>\n",
       "      <td>50179</td>\n",
       "      <td>0</td>\n",
       "      <td>4.0</td>\n",
       "      <td>Mobile Phone</td>\n",
       "      <td>3</td>\n",
       "      <td>13.0</td>\n",
       "      <td>COD</td>\n",
       "      <td>Male</td>\n",
       "      <td>3.0</td>\n",
       "      <td>2</td>\n",
       "      <td>...</td>\n",
       "      <td>2</td>\n",
       "      <td>Divorced</td>\n",
       "      <td>5</td>\n",
       "      <td>0</td>\n",
       "      <td>11.0</td>\n",
       "      <td>3.0</td>\n",
       "      <td>7.0</td>\n",
       "      <td>7.0</td>\n",
       "      <td>169.29</td>\n",
       "      <td>New</td>\n",
       "    </tr>\n",
       "    <tr>\n",
       "      <th>99</th>\n",
       "      <td>50180</td>\n",
       "      <td>0</td>\n",
       "      <td>12.0</td>\n",
       "      <td>Mobile Phone</td>\n",
       "      <td>1</td>\n",
       "      <td>6.0</td>\n",
       "      <td>Credit Card</td>\n",
       "      <td>Male</td>\n",
       "      <td>2.0</td>\n",
       "      <td>2</td>\n",
       "      <td>...</td>\n",
       "      <td>2</td>\n",
       "      <td>Married</td>\n",
       "      <td>1</td>\n",
       "      <td>0</td>\n",
       "      <td>17.0</td>\n",
       "      <td>3.0</td>\n",
       "      <td>3.0</td>\n",
       "      <td>7.0</td>\n",
       "      <td>196.13</td>\n",
       "      <td>Intermediate</td>\n",
       "    </tr>\n",
       "  </tbody>\n",
       "</table>\n",
       "<p>100 rows × 21 columns</p>\n",
       "</div>"
      ],
      "text/plain": [
       "    customerid  churn  tenure preferredlogindevice  citytier  warehousetohome  \\\n",
       "0        50001      1     4.0         Mobile Phone         3              6.0   \n",
       "1        50004      1     0.0                Phone         3             15.0   \n",
       "2        50006      1     0.0             Computer         1             22.0   \n",
       "3        50012      1    11.0         Mobile Phone         1              6.0   \n",
       "4        50013      1     0.0                Phone         1             11.0   \n",
       "..         ...    ...     ...                  ...       ...              ...   \n",
       "95       50175      0    24.0         Mobile Phone         1              8.0   \n",
       "96       50177      0     0.0         Mobile Phone         3             16.0   \n",
       "97       50178      0     1.0         Mobile Phone         1             22.0   \n",
       "98       50179      0     4.0         Mobile Phone         3             13.0   \n",
       "99       50180      0    12.0         Mobile Phone         1              6.0   \n",
       "\n",
       "   preferredpaymentmode  gender  hourspendonapp  numberofdeviceregistered  \\\n",
       "0            Debit Card  Female             3.0                         3   \n",
       "1            Debit Card    Male             2.0                         4   \n",
       "2            Debit Card  Female             3.0                         5   \n",
       "3            Debit Card    Male             3.0                         4   \n",
       "4                   COD    Male             2.0                         3   \n",
       "..                  ...     ...             ...                       ...   \n",
       "95          Credit Card    Male             2.0                         5   \n",
       "96          Credit Card  Female             3.0                         4   \n",
       "97          Credit Card    Male             3.0                         2   \n",
       "98                  COD    Male             3.0                         2   \n",
       "99          Credit Card    Male             2.0                         2   \n",
       "\n",
       "    ... satisfactionscore  maritalstatus numberofaddress  complain  \\\n",
       "0   ...                 2         Single               9         1   \n",
       "1   ...                 5         Single               8         0   \n",
       "2   ...                 5         Single               2         1   \n",
       "3   ...                 3         Single              10         1   \n",
       "4   ...                 3         Single               2         1   \n",
       "..  ...               ...            ...             ...       ...   \n",
       "95  ...                 4        Married               6         0   \n",
       "96  ...                 3         Single               2         0   \n",
       "97  ...                 5         Single               1         0   \n",
       "98  ...                 2       Divorced               5         0   \n",
       "99  ...                 2        Married               1         0   \n",
       "\n",
       "    orderamounthikefromlastyear  couponused  ordercount  daysincelastorder  \\\n",
       "0                          11.0         1.0         1.0                5.0   \n",
       "1                          23.0         0.0         1.0                3.0   \n",
       "2                          22.0         4.0         6.0                7.0   \n",
       "3                          13.0         0.0         1.0                0.0   \n",
       "4                          13.0         2.0         2.0                2.0   \n",
       "..                          ...         ...         ...                ...   \n",
       "95                         18.0         0.0         1.0                2.0   \n",
       "96                         12.0         1.0         1.0                0.0   \n",
       "97                         19.0         0.0         1.0                7.0   \n",
       "98                         11.0         3.0         7.0                7.0   \n",
       "99                         17.0         3.0         3.0                7.0   \n",
       "\n",
       "    cashbackamount  tenure_group  \n",
       "0           159.93           New  \n",
       "1           134.07           New  \n",
       "2           139.19           New  \n",
       "3           153.81  Intermediate  \n",
       "4           134.41           New  \n",
       "..             ...           ...  \n",
       "95          154.82         Loyal  \n",
       "96          112.00           New  \n",
       "97          156.61           New  \n",
       "98          169.29           New  \n",
       "99          196.13  Intermediate  \n",
       "\n",
       "[100 rows x 21 columns]"
      ]
     },
     "execution_count": 25,
     "metadata": {},
     "output_type": "execute_result"
    }
   ],
   "source": [
    "#add features tenure_group\n",
    "# Define the tenure group thresholds\n",
    "tenure_thresholds = [0, 5, 10, 15, float('inf')]  # Define your own thresholds\n",
    "\n",
    "# Define labels for the tenure groups\n",
    "tenure_labels = ['New', 'Regular', 'Intermediate', 'Loyal']\n",
    "\n",
    "# Use the cut() function to create tenure groups\n",
    "df['tenure_group'] = pd.cut(df['tenure'], bins=tenure_thresholds, labels=tenure_labels, right=False)\n",
    "\n",
    "# Print the resulting DataFrame\n",
    "df.head(100)"
   ]
  },
  {
   "cell_type": "code",
   "execution_count": 26,
   "metadata": {},
   "outputs": [
    {
     "data": {
      "text/plain": [
       "customerid                        int64\n",
       "churn                             int64\n",
       "tenure                          float64\n",
       "preferredlogindevice             object\n",
       "citytier                          int64\n",
       "warehousetohome                 float64\n",
       "preferredpaymentmode             object\n",
       "gender                           object\n",
       "hourspendonapp                  float64\n",
       "numberofdeviceregistered          int64\n",
       "preferedordercat                 object\n",
       "satisfactionscore                 int64\n",
       "maritalstatus                    object\n",
       "numberofaddress                   int64\n",
       "complain                          int64\n",
       "orderamounthikefromlastyear     float64\n",
       "couponused                      float64\n",
       "ordercount                      float64\n",
       "daysincelastorder               float64\n",
       "cashbackamount                  float64\n",
       "tenure_group                   category\n",
       "dtype: object"
      ]
     },
     "execution_count": 26,
     "metadata": {},
     "output_type": "execute_result"
    }
   ],
   "source": [
    "df.dtypes"
   ]
  },
  {
   "cell_type": "markdown",
   "metadata": {},
   "source": [
    "## Feature Selection"
   ]
  },
  {
   "cell_type": "code",
   "execution_count": 27,
   "metadata": {},
   "outputs": [
    {
     "data": {
      "text/plain": [
       "Index(['customerid', 'churn', 'tenure', 'preferredlogindevice', 'citytier',\n",
       "       'warehousetohome', 'preferredpaymentmode', 'gender', 'hourspendonapp',\n",
       "       'numberofdeviceregistered', 'preferedordercat', 'satisfactionscore',\n",
       "       'maritalstatus', 'numberofaddress', 'complain',\n",
       "       'orderamounthikefromlastyear', 'couponused', 'ordercount',\n",
       "       'daysincelastorder', 'cashbackamount', 'tenure_group'],\n",
       "      dtype='object')"
      ]
     },
     "execution_count": 27,
     "metadata": {},
     "output_type": "execute_result"
    }
   ],
   "source": [
    "df.columns"
   ]
  },
  {
   "cell_type": "code",
   "execution_count": 28,
   "metadata": {},
   "outputs": [],
   "source": [
    "# # Apply label encoding to the 'tenure_group' feature\n",
    "# label_encoder = LabelEncoder()\n",
    "# df['tenure_group'] = label_encoder.fit_transform(df['tenure_group'])\n",
    "\n",
    "# # apply one-hot encoding to the remaining categorical features\n",
    "# categorical_features = ['preferredlogindevice', 'preferredpaymentmode', 'gender', 'preferedordercat', 'maritalstatus']\n",
    "# df = pd.get_dummies(df, columns=categorical_features, drop_first=True)"
   ]
  },
  {
   "cell_type": "code",
   "execution_count": 29,
   "metadata": {},
   "outputs": [],
   "source": [
    "# # drop the 'customerid' column\n",
    "# df = df.drop(columns=['customerid'])\n",
    "\n",
    "# Apply label encoding\n",
    "label_encoder = LabelEncoder()\n",
    "categorical_features = ['preferredlogindevice', 'preferredpaymentmode', 'gender', 'preferedordercat', 'maritalstatus', 'tenure_group']\n",
    "for feature in categorical_features:\n",
    "    df[feature] = label_encoder.fit_transform(df[feature])"
   ]
  },
  {
   "cell_type": "code",
   "execution_count": 30,
   "metadata": {},
   "outputs": [
    {
     "data": {
      "text/html": [
       "<div>\n",
       "<style scoped>\n",
       "    .dataframe tbody tr th:only-of-type {\n",
       "        vertical-align: middle;\n",
       "    }\n",
       "\n",
       "    .dataframe tbody tr th {\n",
       "        vertical-align: top;\n",
       "    }\n",
       "\n",
       "    .dataframe thead th {\n",
       "        text-align: right;\n",
       "    }\n",
       "</style>\n",
       "<table border=\"1\" class=\"dataframe\">\n",
       "  <thead>\n",
       "    <tr style=\"text-align: right;\">\n",
       "      <th></th>\n",
       "      <th>customerid</th>\n",
       "      <th>churn</th>\n",
       "      <th>tenure</th>\n",
       "      <th>preferredlogindevice</th>\n",
       "      <th>citytier</th>\n",
       "      <th>warehousetohome</th>\n",
       "      <th>preferredpaymentmode</th>\n",
       "      <th>gender</th>\n",
       "      <th>hourspendonapp</th>\n",
       "      <th>numberofdeviceregistered</th>\n",
       "      <th>...</th>\n",
       "      <th>satisfactionscore</th>\n",
       "      <th>maritalstatus</th>\n",
       "      <th>numberofaddress</th>\n",
       "      <th>complain</th>\n",
       "      <th>orderamounthikefromlastyear</th>\n",
       "      <th>couponused</th>\n",
       "      <th>ordercount</th>\n",
       "      <th>daysincelastorder</th>\n",
       "      <th>cashbackamount</th>\n",
       "      <th>tenure_group</th>\n",
       "    </tr>\n",
       "  </thead>\n",
       "  <tbody>\n",
       "    <tr>\n",
       "      <th>0</th>\n",
       "      <td>50001</td>\n",
       "      <td>1</td>\n",
       "      <td>4.0</td>\n",
       "      <td>1</td>\n",
       "      <td>3</td>\n",
       "      <td>6.0</td>\n",
       "      <td>4</td>\n",
       "      <td>0</td>\n",
       "      <td>3.0</td>\n",
       "      <td>3</td>\n",
       "      <td>...</td>\n",
       "      <td>2</td>\n",
       "      <td>2</td>\n",
       "      <td>9</td>\n",
       "      <td>1</td>\n",
       "      <td>11.0</td>\n",
       "      <td>1.0</td>\n",
       "      <td>1.0</td>\n",
       "      <td>5.0</td>\n",
       "      <td>159.93</td>\n",
       "      <td>2</td>\n",
       "    </tr>\n",
       "    <tr>\n",
       "      <th>1</th>\n",
       "      <td>50004</td>\n",
       "      <td>1</td>\n",
       "      <td>0.0</td>\n",
       "      <td>2</td>\n",
       "      <td>3</td>\n",
       "      <td>15.0</td>\n",
       "      <td>4</td>\n",
       "      <td>1</td>\n",
       "      <td>2.0</td>\n",
       "      <td>4</td>\n",
       "      <td>...</td>\n",
       "      <td>5</td>\n",
       "      <td>2</td>\n",
       "      <td>8</td>\n",
       "      <td>0</td>\n",
       "      <td>23.0</td>\n",
       "      <td>0.0</td>\n",
       "      <td>1.0</td>\n",
       "      <td>3.0</td>\n",
       "      <td>134.07</td>\n",
       "      <td>2</td>\n",
       "    </tr>\n",
       "  </tbody>\n",
       "</table>\n",
       "<p>2 rows × 21 columns</p>\n",
       "</div>"
      ],
      "text/plain": [
       "   customerid  churn  tenure  preferredlogindevice  citytier  warehousetohome  \\\n",
       "0       50001      1     4.0                     1         3              6.0   \n",
       "1       50004      1     0.0                     2         3             15.0   \n",
       "\n",
       "   preferredpaymentmode  gender  hourspendonapp  numberofdeviceregistered  \\\n",
       "0                     4       0             3.0                         3   \n",
       "1                     4       1             2.0                         4   \n",
       "\n",
       "   ...  satisfactionscore  maritalstatus  numberofaddress  complain  \\\n",
       "0  ...                  2              2                9         1   \n",
       "1  ...                  5              2                8         0   \n",
       "\n",
       "   orderamounthikefromlastyear  couponused  ordercount  daysincelastorder  \\\n",
       "0                         11.0         1.0         1.0                5.0   \n",
       "1                         23.0         0.0         1.0                3.0   \n",
       "\n",
       "   cashbackamount  tenure_group  \n",
       "0          159.93             2  \n",
       "1          134.07             2  \n",
       "\n",
       "[2 rows x 21 columns]"
      ]
     },
     "execution_count": 30,
     "metadata": {},
     "output_type": "execute_result"
    }
   ],
   "source": [
    "df.head(2)"
   ]
  },
  {
   "cell_type": "code",
   "execution_count": 31,
   "metadata": {},
   "outputs": [
    {
     "name": "stdout",
     "output_type": "stream",
     "text": [
      "Index(['customerid', 'churn', 'tenure', 'preferredlogindevice', 'citytier',\n",
      "       'warehousetohome', 'preferredpaymentmode', 'gender', 'hourspendonapp',\n",
      "       'numberofdeviceregistered', 'preferedordercat', 'satisfactionscore',\n",
      "       'maritalstatus', 'numberofaddress', 'complain',\n",
      "       'orderamounthikefromlastyear', 'couponused', 'ordercount',\n",
      "       'daysincelastorder', 'cashbackamount', 'tenure_group'],\n",
      "      dtype='object')\n"
     ]
    },
    {
     "data": {
      "text/plain": [
       "(4081, 21)"
      ]
     },
     "execution_count": 31,
     "metadata": {},
     "output_type": "execute_result"
    }
   ],
   "source": [
    "print(df.columns)\n",
    "df.shape"
   ]
  },
  {
   "cell_type": "code",
   "execution_count": 32,
   "metadata": {},
   "outputs": [],
   "source": [
    "#define function for mutual information score\n",
    "def calculate_mutual_information(df, target_column, random_seed=None):\n",
    "    \"\"\"\n",
    "    Calculate Mutual Information scores for feature selection.\n",
    "    \n",
    "    Parameters:\n",
    "    - data: DataFrame containing the dataset.\n",
    "    - target_column: Name of the target variable column.\n",
    "    \n",
    "    Returns:\n",
    "    - Dictionary of feature names and their Mutual Information scores.\n",
    "    \"\"\"\n",
    "    features = df.drop(target_column, axis=1)  # Exclude the target column\n",
    "    target = df[target_column]\n",
    "\n",
    "    if random_seed is not None:\n",
    "        np.random.seed(random_seed)\n",
    "    \n",
    "    mutual_info = mutual_info_classif(features, target)\n",
    "    \n",
    "    mutual_info_scores = {feature: score for feature, score in zip(features.columns, mutual_info)}\n",
    "    \n",
    "    return mutual_info_scores"
   ]
  },
  {
   "cell_type": "code",
   "execution_count": 33,
   "metadata": {},
   "outputs": [
    {
     "name": "stdout",
     "output_type": "stream",
     "text": [
      "Mutual Information Scores:\n",
      "customerid: 0.025992898822322807\n",
      "tenure: 0.1320429074783771\n",
      "preferredlogindevice: 0.004696868274087995\n",
      "citytier: 0.005759235208137037\n",
      "warehousetohome: 0.0\n",
      "preferredpaymentmode: 0.0\n",
      "gender: 0.0\n",
      "hourspendonapp: 0.0005083423752596516\n",
      "numberofdeviceregistered: 0.00986897027242506\n",
      "preferedordercat: 0.020781587863059725\n",
      "satisfactionscore: 0.003537694144756909\n",
      "maritalstatus: 0.011656645407788435\n",
      "numberofaddress: 0.008216965482021665\n",
      "complain: 0.022376983983786847\n",
      "orderamounthikefromlastyear: 0.0\n",
      "couponused: 0.006046095601212054\n",
      "ordercount: 0.0006347147888370319\n",
      "daysincelastorder: 0.014994864204211034\n",
      "cashbackamount: 0.13550798200285774\n",
      "tenure_group: 0.07853396164659965\n"
     ]
    }
   ],
   "source": [
    "# Define the target variable column\n",
    "# Set a random seed for reproducibility\n",
    "random_seed = 42\n",
    "target_column = 'churn'\n",
    "\n",
    "# Calculate Mutual Information scores\n",
    "mutual_info_scores = calculate_mutual_information(df, target_column, random_seed)\n",
    "\n",
    "# Print the Mutual Information scores\n",
    "print(\"Mutual Information Scores:\")\n",
    "for feature, score in mutual_info_scores.items():\n",
    "    print(f\"{feature}: {score}\")"
   ]
  },
  {
   "cell_type": "code",
   "execution_count": 34,
   "metadata": {},
   "outputs": [
    {
     "data": {
      "text/html": [
       "<div>\n",
       "<style scoped>\n",
       "    .dataframe tbody tr th:only-of-type {\n",
       "        vertical-align: middle;\n",
       "    }\n",
       "\n",
       "    .dataframe tbody tr th {\n",
       "        vertical-align: top;\n",
       "    }\n",
       "\n",
       "    .dataframe thead th {\n",
       "        text-align: right;\n",
       "    }\n",
       "</style>\n",
       "<table border=\"1\" class=\"dataframe\">\n",
       "  <thead>\n",
       "    <tr style=\"text-align: right;\">\n",
       "      <th></th>\n",
       "      <th>Mutual Information</th>\n",
       "    </tr>\n",
       "  </thead>\n",
       "  <tbody>\n",
       "    <tr>\n",
       "      <th>cashbackamount</th>\n",
       "      <td>0.135508</td>\n",
       "    </tr>\n",
       "    <tr>\n",
       "      <th>tenure</th>\n",
       "      <td>0.132043</td>\n",
       "    </tr>\n",
       "    <tr>\n",
       "      <th>tenure_group</th>\n",
       "      <td>0.078534</td>\n",
       "    </tr>\n",
       "    <tr>\n",
       "      <th>customerid</th>\n",
       "      <td>0.025993</td>\n",
       "    </tr>\n",
       "    <tr>\n",
       "      <th>complain</th>\n",
       "      <td>0.022377</td>\n",
       "    </tr>\n",
       "    <tr>\n",
       "      <th>preferedordercat</th>\n",
       "      <td>0.020782</td>\n",
       "    </tr>\n",
       "    <tr>\n",
       "      <th>daysincelastorder</th>\n",
       "      <td>0.014995</td>\n",
       "    </tr>\n",
       "    <tr>\n",
       "      <th>maritalstatus</th>\n",
       "      <td>0.011657</td>\n",
       "    </tr>\n",
       "    <tr>\n",
       "      <th>numberofdeviceregistered</th>\n",
       "      <td>0.009869</td>\n",
       "    </tr>\n",
       "    <tr>\n",
       "      <th>numberofaddress</th>\n",
       "      <td>0.008217</td>\n",
       "    </tr>\n",
       "    <tr>\n",
       "      <th>couponused</th>\n",
       "      <td>0.006046</td>\n",
       "    </tr>\n",
       "    <tr>\n",
       "      <th>citytier</th>\n",
       "      <td>0.005759</td>\n",
       "    </tr>\n",
       "    <tr>\n",
       "      <th>preferredlogindevice</th>\n",
       "      <td>0.004697</td>\n",
       "    </tr>\n",
       "    <tr>\n",
       "      <th>satisfactionscore</th>\n",
       "      <td>0.003538</td>\n",
       "    </tr>\n",
       "    <tr>\n",
       "      <th>ordercount</th>\n",
       "      <td>0.000635</td>\n",
       "    </tr>\n",
       "    <tr>\n",
       "      <th>hourspendonapp</th>\n",
       "      <td>0.000508</td>\n",
       "    </tr>\n",
       "    <tr>\n",
       "      <th>warehousetohome</th>\n",
       "      <td>0.000000</td>\n",
       "    </tr>\n",
       "    <tr>\n",
       "      <th>preferredpaymentmode</th>\n",
       "      <td>0.000000</td>\n",
       "    </tr>\n",
       "    <tr>\n",
       "      <th>gender</th>\n",
       "      <td>0.000000</td>\n",
       "    </tr>\n",
       "    <tr>\n",
       "      <th>orderamounthikefromlastyear</th>\n",
       "      <td>0.000000</td>\n",
       "    </tr>\n",
       "  </tbody>\n",
       "</table>\n",
       "</div>"
      ],
      "text/plain": [
       "                             Mutual Information\n",
       "cashbackamount                         0.135508\n",
       "tenure                                 0.132043\n",
       "tenure_group                           0.078534\n",
       "customerid                             0.025993\n",
       "complain                               0.022377\n",
       "preferedordercat                       0.020782\n",
       "daysincelastorder                      0.014995\n",
       "maritalstatus                          0.011657\n",
       "numberofdeviceregistered               0.009869\n",
       "numberofaddress                        0.008217\n",
       "couponused                             0.006046\n",
       "citytier                               0.005759\n",
       "preferredlogindevice                   0.004697\n",
       "satisfactionscore                      0.003538\n",
       "ordercount                             0.000635\n",
       "hourspendonapp                         0.000508\n",
       "warehousetohome                        0.000000\n",
       "preferredpaymentmode                   0.000000\n",
       "gender                                 0.000000\n",
       "orderamounthikefromlastyear            0.000000"
      ]
     },
     "execution_count": 34,
     "metadata": {},
     "output_type": "execute_result"
    }
   ],
   "source": [
    "# Convert the scores to a Pandas DataFrame for easier plotting\n",
    "mi_df = pd.DataFrame.from_dict(mutual_info_scores, orient='index', columns=['Mutual Information'])\n",
    "\n",
    "# Sort the features by their Mutual Information scores for better visualization\n",
    "mi_df = mi_df.sort_values(by='Mutual Information', ascending=False)\n",
    "mi_df"
   ]
  },
  {
   "cell_type": "code",
   "execution_count": 35,
   "metadata": {},
   "outputs": [
    {
     "data": {
      "image/png": "[encoded data removed]",
      "text/plain": [
       "<Figure size 1000x600 with 1 Axes>"
      ]
     },
     "metadata": {},
     "output_type": "display_data"
    }
   ],
   "source": [
    "# Create a bar plot\n",
    "plt.figure(figsize=(10, 6))\n",
    "plt.barh(mi_df.index, mi_df['Mutual Information'])\n",
    "plt.xlabel('Mutual Information Score')\n",
    "plt.ylabel('Features')\n",
    "plt.title('Mutual Information Scores for Feature Selection')\n",
    "plt.show()"
   ]
  },
  {
   "cell_type": "code",
   "execution_count": 36,
   "metadata": {},
   "outputs": [],
   "source": [
    "# couponused and tier has low or no predictive power regarding the target variable"
   ]
  },
  {
   "cell_type": "code",
   "execution_count": 37,
   "metadata": {},
   "outputs": [
    {
     "name": "stdout",
     "output_type": "stream",
     "text": [
      "(4081, 17)\n",
      "Index(['customerid', 'churn', 'tenure', 'preferredlogindevice', 'citytier',\n",
      "       'hourspendonapp', 'numberofdeviceregistered', 'preferedordercat',\n",
      "       'satisfactionscore', 'maritalstatus', 'numberofaddress', 'complain',\n",
      "       'couponused', 'ordercount', 'daysincelastorder', 'cashbackamount',\n",
      "       'tenure_group'],\n",
      "      dtype='object')\n"
     ]
    },
    {
     "data": {
      "text/html": [
       "<div>\n",
       "<style scoped>\n",
       "    .dataframe tbody tr th:only-of-type {\n",
       "        vertical-align: middle;\n",
       "    }\n",
       "\n",
       "    .dataframe tbody tr th {\n",
       "        vertical-align: top;\n",
       "    }\n",
       "\n",
       "    .dataframe thead th {\n",
       "        text-align: right;\n",
       "    }\n",
       "</style>\n",
       "<table border=\"1\" class=\"dataframe\">\n",
       "  <thead>\n",
       "    <tr style=\"text-align: right;\">\n",
       "      <th></th>\n",
       "      <th>customerid</th>\n",
       "      <th>churn</th>\n",
       "      <th>tenure</th>\n",
       "      <th>preferredlogindevice</th>\n",
       "      <th>citytier</th>\n",
       "      <th>hourspendonapp</th>\n",
       "      <th>numberofdeviceregistered</th>\n",
       "      <th>preferedordercat</th>\n",
       "      <th>satisfactionscore</th>\n",
       "      <th>maritalstatus</th>\n",
       "      <th>numberofaddress</th>\n",
       "      <th>complain</th>\n",
       "      <th>couponused</th>\n",
       "      <th>ordercount</th>\n",
       "      <th>daysincelastorder</th>\n",
       "      <th>cashbackamount</th>\n",
       "      <th>tenure_group</th>\n",
       "    </tr>\n",
       "  </thead>\n",
       "  <tbody>\n",
       "    <tr>\n",
       "      <th>0</th>\n",
       "      <td>50001</td>\n",
       "      <td>1</td>\n",
       "      <td>4.0</td>\n",
       "      <td>1</td>\n",
       "      <td>3</td>\n",
       "      <td>3.0</td>\n",
       "      <td>3</td>\n",
       "      <td>2</td>\n",
       "      <td>2</td>\n",
       "      <td>2</td>\n",
       "      <td>9</td>\n",
       "      <td>1</td>\n",
       "      <td>1.0</td>\n",
       "      <td>1.0</td>\n",
       "      <td>5.0</td>\n",
       "      <td>159.93</td>\n",
       "      <td>2</td>\n",
       "    </tr>\n",
       "    <tr>\n",
       "      <th>1</th>\n",
       "      <td>50004</td>\n",
       "      <td>1</td>\n",
       "      <td>0.0</td>\n",
       "      <td>2</td>\n",
       "      <td>3</td>\n",
       "      <td>2.0</td>\n",
       "      <td>4</td>\n",
       "      <td>2</td>\n",
       "      <td>5</td>\n",
       "      <td>2</td>\n",
       "      <td>8</td>\n",
       "      <td>0</td>\n",
       "      <td>0.0</td>\n",
       "      <td>1.0</td>\n",
       "      <td>3.0</td>\n",
       "      <td>134.07</td>\n",
       "      <td>2</td>\n",
       "    </tr>\n",
       "  </tbody>\n",
       "</table>\n",
       "</div>"
      ],
      "text/plain": [
       "   customerid  churn  tenure  preferredlogindevice  citytier  hourspendonapp  \\\n",
       "0       50001      1     4.0                     1         3             3.0   \n",
       "1       50004      1     0.0                     2         3             2.0   \n",
       "\n",
       "   numberofdeviceregistered  preferedordercat  satisfactionscore  \\\n",
       "0                         3                 2                  2   \n",
       "1                         4                 2                  5   \n",
       "\n",
       "   maritalstatus  numberofaddress  complain  couponused  ordercount  \\\n",
       "0              2                9         1         1.0         1.0   \n",
       "1              2                8         0         0.0         1.0   \n",
       "\n",
       "   daysincelastorder  cashbackamount  tenure_group  \n",
       "0                5.0          159.93             2  \n",
       "1                3.0          134.07             2  "
      ]
     },
     "execution_count": 37,
     "metadata": {},
     "output_type": "execute_result"
    }
   ],
   "source": [
    "# drop the low predictive variables \n",
    "df = df.drop(columns=['warehousetohome','orderamounthikefromlastyear','preferredpaymentmode','gender'])\n",
    "print(df.shape)\n",
    "print(df.columns)\n",
    "df.head(2)\n"
   ]
  },
  {
   "attachments": {},
   "cell_type": "markdown",
   "metadata": {},
   "source": [
    "### Spliting data into train and test sets"
   ]
  },
  {
   "cell_type": "code",
   "execution_count": 38,
   "metadata": {},
   "outputs": [],
   "source": [
    "# Define the feature columns and target variable\n",
    "X = df.drop(columns=['churn'])  # Features\n",
    "y = df['churn']  # Target variable\n",
    "\n",
    "# Split the data into training and testing sets (70% train, 30% test)\n",
    "X_train, X_test, y_train, y_test = train_test_split(X, y, test_size=0.3, random_state=42)"
   ]
  },
  {
   "cell_type": "markdown",
   "metadata": {},
   "source": [
    "### Modeling and Evaluation"
   ]
  },
  {
   "cell_type": "code",
   "execution_count": 39,
   "metadata": {},
   "outputs": [],
   "source": [
    "# Logistic Regression\n",
    "logistic_model = LogisticRegression()\n",
    "logistic_model.fit(X_train, y_train)\n",
    "logistic_predictions = logistic_model.predict(X_test)"
   ]
  },
  {
   "cell_type": "code",
   "execution_count": 40,
   "metadata": {},
   "outputs": [
    {
     "name": "stdout",
     "output_type": "stream",
     "text": [
      "Logistic Regression Accuracy: 0.8481632653061224\n"
     ]
    },
    {
     "data": {
      "text/html": [
       "<div>\n",
       "<style scoped>\n",
       "    .dataframe tbody tr th:only-of-type {\n",
       "        vertical-align: middle;\n",
       "    }\n",
       "\n",
       "    .dataframe tbody tr th {\n",
       "        vertical-align: top;\n",
       "    }\n",
       "\n",
       "    .dataframe thead th {\n",
       "        text-align: right;\n",
       "    }\n",
       "</style>\n",
       "<table border=\"1\" class=\"dataframe\">\n",
       "  <thead>\n",
       "    <tr style=\"text-align: right;\">\n",
       "      <th></th>\n",
       "      <th>precision</th>\n",
       "      <th>recall</th>\n",
       "      <th>f1-score</th>\n",
       "      <th>support</th>\n",
       "    </tr>\n",
       "  </thead>\n",
       "  <tbody>\n",
       "    <tr>\n",
       "      <th>0</th>\n",
       "      <td>0.870304</td>\n",
       "      <td>0.959566</td>\n",
       "      <td>0.912758</td>\n",
       "      <td>1014.000000</td>\n",
       "    </tr>\n",
       "    <tr>\n",
       "      <th>1</th>\n",
       "      <td>0.616822</td>\n",
       "      <td>0.312796</td>\n",
       "      <td>0.415094</td>\n",
       "      <td>211.000000</td>\n",
       "    </tr>\n",
       "    <tr>\n",
       "      <th>accuracy</th>\n",
       "      <td>0.848163</td>\n",
       "      <td>0.848163</td>\n",
       "      <td>0.848163</td>\n",
       "      <td>0.848163</td>\n",
       "    </tr>\n",
       "    <tr>\n",
       "      <th>macro avg</th>\n",
       "      <td>0.743563</td>\n",
       "      <td>0.636181</td>\n",
       "      <td>0.663926</td>\n",
       "      <td>1225.000000</td>\n",
       "    </tr>\n",
       "    <tr>\n",
       "      <th>weighted avg</th>\n",
       "      <td>0.826643</td>\n",
       "      <td>0.848163</td>\n",
       "      <td>0.827038</td>\n",
       "      <td>1225.000000</td>\n",
       "    </tr>\n",
       "  </tbody>\n",
       "</table>\n",
       "</div>"
      ],
      "text/plain": [
       "              precision    recall  f1-score      support\n",
       "0              0.870304  0.959566  0.912758  1014.000000\n",
       "1              0.616822  0.312796  0.415094   211.000000\n",
       "accuracy       0.848163  0.848163  0.848163     0.848163\n",
       "macro avg      0.743563  0.636181  0.663926  1225.000000\n",
       "weighted avg   0.826643  0.848163  0.827038  1225.000000"
      ]
     },
     "execution_count": 40,
     "metadata": {},
     "output_type": "execute_result"
    }
   ],
   "source": [
    "# # Evaluate model performance\n",
    "#     #accur\n",
    "logistic_accuracy = accuracy_score(y_test, logistic_predictions)\n",
    "# # Classification Report\n",
    "logistic_report = classification_report(y_test, logistic_predictions, output_dict=True)\n",
    "class_report= pd.DataFrame(logistic_report).transpose()\n",
    "\n",
    "# Print the accuracy of each model\n",
    "print(\"Logistic Regression Accuracy:\", logistic_accuracy)\n",
    "class_report "
   ]
  },
  {
   "cell_type": "code",
   "execution_count": 41,
   "metadata": {},
   "outputs": [],
   "source": [
    "# Random Forest Classifier\n",
    "random_forest_model = RandomForestClassifier()\n",
    "random_forest_model.fit(X_train, y_train)\n",
    "random_forest_predictions = random_forest_model.predict(X_test)"
   ]
  },
  {
   "cell_type": "code",
   "execution_count": 42,
   "metadata": {},
   "outputs": [
    {
     "data": {
      "text/html": [
       "<div>\n",
       "<style scoped>\n",
       "    .dataframe tbody tr th:only-of-type {\n",
       "        vertical-align: middle;\n",
       "    }\n",
       "\n",
       "    .dataframe tbody tr th {\n",
       "        vertical-align: top;\n",
       "    }\n",
       "\n",
       "    .dataframe thead th {\n",
       "        text-align: right;\n",
       "    }\n",
       "</style>\n",
       "<table border=\"1\" class=\"dataframe\">\n",
       "  <thead>\n",
       "    <tr style=\"text-align: right;\">\n",
       "      <th></th>\n",
       "      <th>precision</th>\n",
       "      <th>recall</th>\n",
       "      <th>f1-score</th>\n",
       "      <th>support</th>\n",
       "    </tr>\n",
       "  </thead>\n",
       "  <tbody>\n",
       "    <tr>\n",
       "      <th>0</th>\n",
       "      <td>0.958414</td>\n",
       "      <td>0.977318</td>\n",
       "      <td>0.967773</td>\n",
       "      <td>1014.000000</td>\n",
       "    </tr>\n",
       "    <tr>\n",
       "      <th>1</th>\n",
       "      <td>0.879581</td>\n",
       "      <td>0.796209</td>\n",
       "      <td>0.835821</td>\n",
       "      <td>211.000000</td>\n",
       "    </tr>\n",
       "    <tr>\n",
       "      <th>accuracy</th>\n",
       "      <td>0.946122</td>\n",
       "      <td>0.946122</td>\n",
       "      <td>0.946122</td>\n",
       "      <td>0.946122</td>\n",
       "    </tr>\n",
       "    <tr>\n",
       "      <th>macro avg</th>\n",
       "      <td>0.918998</td>\n",
       "      <td>0.886763</td>\n",
       "      <td>0.901797</td>\n",
       "      <td>1225.000000</td>\n",
       "    </tr>\n",
       "    <tr>\n",
       "      <th>weighted avg</th>\n",
       "      <td>0.944835</td>\n",
       "      <td>0.946122</td>\n",
       "      <td>0.945045</td>\n",
       "      <td>1225.000000</td>\n",
       "    </tr>\n",
       "  </tbody>\n",
       "</table>\n",
       "</div>"
      ],
      "text/plain": [
       "              precision    recall  f1-score      support\n",
       "0              0.958414  0.977318  0.967773  1014.000000\n",
       "1              0.879581  0.796209  0.835821   211.000000\n",
       "accuracy       0.946122  0.946122  0.946122     0.946122\n",
       "macro avg      0.918998  0.886763  0.901797  1225.000000\n",
       "weighted avg   0.944835  0.946122  0.945045  1225.000000"
      ]
     },
     "execution_count": 42,
     "metadata": {},
     "output_type": "execute_result"
    }
   ],
   "source": [
    "# Evaluate model performance\n",
    "random_forest_accuracy = accuracy_score(y_test, random_forest_predictions)\n",
    "# # Classification Report\n",
    "random_forest_report = classification_report(y_test, random_forest_predictions, output_dict=True)\n",
    "class_report= pd.DataFrame(random_forest_report).transpose()\n",
    "class_report"
   ]
  },
  {
   "cell_type": "code",
   "execution_count": 43,
   "metadata": {},
   "outputs": [
    {
     "name": "stdout",
     "output_type": "stream",
     "text": [
      "Logistic Regression Confusion Matrix:\n",
      "[[973  41]\n",
      " [145  66]]\n",
      "Random Forest Confusion Matrix:\n",
      "[[991  23]\n",
      " [ 43 168]]\n"
     ]
    }
   ],
   "source": [
    "# Confusion Matrix\n",
    "logistic_confusion_matrix = confusion_matrix(y_test, logistic_predictions)\n",
    "random_forest_confusion_matrix = confusion_matrix(y_test, random_forest_predictions)\n",
    "\n",
    "print(\"Logistic Regression Confusion Matrix:\")\n",
    "print(logistic_confusion_matrix)\n",
    "\n",
    "print(\"Random Forest Confusion Matrix:\")\n",
    "print(random_forest_confusion_matrix)"
   ]
  },
  {
   "cell_type": "code",
   "execution_count": 44,
   "metadata": {},
   "outputs": [
    {
     "data": {
      "image/png": "[encoded data removed]",
      "text/plain": [
       "<Figure size 640x480 with 1 Axes>"
      ]
     },
     "metadata": {},
     "output_type": "display_data"
    }
   ],
   "source": [
    "# Calculate ROC curves\n",
    "# auc score\n",
    "logistic_roc_auc = roc_auc_score(y_test, logistic_model.predict_proba(X_test)[:, 1])\n",
    "fpr, tpr, thresholds = roc_curve(y_test, logistic_model.predict_proba(X_test)[:, 1])\n",
    "\n",
    "random_forest_roc_auc = roc_auc_score(y_test, random_forest_model.predict_proba(X_test)[:, 1])\n",
    "fpr, tpr, thresholds = roc_curve(y_test, random_forest_model.predict_proba(X_test)[:, 1])\n",
    "\n",
    "logistic_fpr, logistic_tpr, _ = roc_curve(y_test, logistic_model.predict_proba(X_test)[:, 1])\n",
    "random_forest_fpr, random_forest_tpr, _ = roc_curve(y_test, random_forest_model.predict_proba(X_test)[:, 1])\n",
    "\n",
    "# Create a bar chart for ROC scores\n",
    "# models = ['Logistic Regression', 'Random Forest']\n",
    "# roc_scores = [logistic_roc_auc, random_forest_roc_auc]\n",
    "\n",
    "# plt.figure(figsize=(10, 5))\n",
    "# plt.bar(models, roc_scores, color=['blue', 'green'])\n",
    "# plt.ylabel('ROC AUC Score')\n",
    "# plt.title('ROC AUC Score Comparison')\n",
    "# plt.ylim(0.0, 1.0)\n",
    "\n",
    "# Plot ROC curves on the same chart\n",
    "plt.plot(logistic_fpr, logistic_tpr, label=f'Logistic Regression (AUC = {logistic_roc_auc:.2f})')\n",
    "plt.plot(random_forest_fpr, random_forest_tpr, label=f'Random Forest (AUC = {random_forest_roc_auc:.2f})')\n",
    "plt.legend(loc='lower right')\n",
    "\n",
    "plt.show()"
   ]
  },
  {
   "attachments": {},
   "cell_type": "markdown",
   "metadata": {},
   "source": [
    "### Save model"
   ]
  },
  {
   "cell_type": "code",
   "execution_count": 45,
   "metadata": {},
   "outputs": [],
   "source": [
    "# Save the best model to a file using pickle\n",
    "model_filename = 'random_forest_model.pkl'\n",
    "with open(model_filename, 'wb') as file:\n",
    "    pickle.dump(random_forest_model, file)"
   ]
  },
  {
   "attachments": {},
   "cell_type": "markdown",
   "metadata": {},
   "source": [
    "#### Testing the model: \n",
    "###### Make prediction on new data"
   ]
  },
  {
   "cell_type": "code",
   "execution_count": 46,
   "metadata": {},
   "outputs": [],
   "source": [
    "# import pickle\n",
    "# # Load the saved model from the file\n",
    "# model_file = 'random_forest_model.pkl'\n",
    "\n",
    "# with open(model_file, 'rb') as f_in:\n",
    "#   rd = pickle.load( f_in)"
   ]
  },
  {
   "cell_type": "code",
   "execution_count": 47,
   "metadata": {},
   "outputs": [],
   "source": [
    "# customer ={\n",
    "#     'customerid':'90010',\n",
    "#     'tenure':'0.0',\n",
    "#     'preferredlogindevice':'phone',\n",
    "#     'citytier':'5',\n",
    "#     'hourspendonapp':'4.0',\n",
    "#     'numberofdeviceregistered':'2',\n",
    "#     'preferedordercat':'laptop_&_accessory',\n",
    "#     'satisfactionscore':'3',\n",
    "#     'maritalstatus':'single',\n",
    "#     'numberofaddress':'12',\n",
    "#     'complain':'0',\n",
    "#     'couponused':'0.0',\n",
    "#     'ordercount':'0.0',\n",
    "#     'daysincelastorder':'0.0',\n",
    "#     'cashbackamount':'100.07',\n",
    "#     'tenure_group':'New'\n",
    "# }"
   ]
  },
  {
   "cell_type": "code",
   "execution_count": 48,
   "metadata": {},
   "outputs": [],
   "source": [
    "# # Convert the customer data to a DataFrame\n",
    "# customer_df = pd.DataFrame([customer])\n",
    "# categorical_features = ['preferredlogindevice','preferedordercat','maritalstatus', 'tenure_group']\n",
    "# for feature in categorical_features:\n",
    "#     customer_df[feature] = label_encoder.fit_transform(customer_df[feature])\n",
    "\n",
    "# # Predict the probability of churn\n",
    "# churn_prob = rd.predict_proba(customer_df)[0, 1]\n",
    "# churn_pred = rd.predict(customer_df)\n",
    "\n",
    "# # Print the results\n",
    "# print('input', customer)\n",
    "# print(f\"Churn Probability: {churn_prob}\")\n",
    "# print(f\"Churn Prediction: {churn_pred}\")"
   ]
  }
 ],
 "metadata": {
  "kernelspec": {
   "display_name": "Python 3",
   "language": "python",
   "name": "python3"
  },
  "language_info": {
   "codemirror_mode": {
    "name": "ipython",
    "version": 3
   },
   "file_extension": ".py",
   "mimetype": "text/x-python",
   "name": "python",
   "nbconvert_exporter": "python",
   "pygments_lexer": "ipython3",
   "version": "3.11.6"
  },
  "orig_nbformat": 4
 },
 "nbformat": 4,
 "nbformat_minor": 2
}

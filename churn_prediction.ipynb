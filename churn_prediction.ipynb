{
 "cells": [
  {
   "attachments": {},
   "cell_type": "markdown",
   "metadata": {},
   "source": [
    "# Data Preparation"
   ]
  },
  {
   "cell_type": "code",
   "execution_count": 121,
   "metadata": {},
   "outputs": [],
   "source": [
    "# import libraries\n",
    "\n",
    "import pandas as pd\n",
    "import numpy as np"
   ]
  },
  {
   "cell_type": "code",
   "execution_count": 161,
   "metadata": {},
   "outputs": [],
   "source": [
    "# Parameters\n",
    "C=1\n",
    "max_iter = 500\n",
    "n_splits = 3\n",
    "\n",
    "\n",
    "output_file = f'model_C={C}.bin'"
   ]
  },
  {
   "cell_type": "code",
   "execution_count": 122,
   "metadata": {},
   "outputs": [
    {
     "name": "stdout",
     "output_type": "stream",
     "text": [
      "   CustomerID  Churn  Tenure PreferredLoginDevice  CityTier  WarehouseToHome  \\\n",
      "0       50001      1     4.0         Mobile Phone         3              6.0   \n",
      "1       50002      1     NaN                Phone         1              8.0   \n",
      "2       50003      1     NaN                Phone         1             30.0   \n",
      "3       50004      1     0.0                Phone         3             15.0   \n",
      "4       50005      1     0.0                Phone         1             12.0   \n",
      "\n",
      "  PreferredPaymentMode  Gender  HourSpendOnApp  NumberOfDeviceRegistered  \\\n",
      "0           Debit Card  Female             3.0                         3   \n",
      "1                  UPI    Male             3.0                         4   \n",
      "2           Debit Card    Male             2.0                         4   \n",
      "3           Debit Card    Male             2.0                         4   \n",
      "4                   CC    Male             NaN                         3   \n",
      "\n",
      "     PreferedOrderCat  SatisfactionScore MaritalStatus  NumberOfAddress  \\\n",
      "0  Laptop & Accessory                  2        Single                9   \n",
      "1              Mobile                  3        Single                7   \n",
      "2              Mobile                  3        Single                6   \n",
      "3  Laptop & Accessory                  5        Single                8   \n",
      "4              Mobile                  5        Single                3   \n",
      "\n",
      "   Complain  OrderAmountHikeFromlastYear  CouponUsed  OrderCount  \\\n",
      "0         1                         11.0         1.0         1.0   \n",
      "1         1                         15.0         0.0         1.0   \n",
      "2         1                         14.0         0.0         1.0   \n",
      "3         0                         23.0         0.0         1.0   \n",
      "4         0                         11.0         1.0         1.0   \n",
      "\n",
      "   DaySinceLastOrder  CashbackAmount  \n",
      "0                5.0          159.93  \n",
      "1                0.0          120.90  \n",
      "2                3.0          120.28  \n",
      "3                3.0          134.07  \n",
      "4                3.0          129.60  \n",
      "(5630, 20)\n"
     ]
    }
   ],
   "source": [
    "## Data Preparation\n",
    "df = pd.read_excel('E Commerce Dataset.xlsx', 'E Comm')\n",
    "print(df.head())\n",
    "\n",
    "print(df.shape)"
   ]
  },
  {
   "cell_type": "code",
   "execution_count": 123,
   "metadata": {},
   "outputs": [
    {
     "name": "stdout",
     "output_type": "stream",
     "text": [
      "customerid                       0\n",
      "churn                            0\n",
      "tenure                         264\n",
      "preferredlogindevice             0\n",
      "citytier                         0\n",
      "warehousetohome                251\n",
      "preferredpaymentmode             0\n",
      "gender                           0\n",
      "hourspendonapp                 255\n",
      "numberofdeviceregistered         0\n",
      "preferedordercat                 0\n",
      "satisfactionscore                0\n",
      "maritalstatus                    0\n",
      "numberofaddress                  0\n",
      "complain                         0\n",
      "orderamounthikefromlastyear    265\n",
      "couponused                     256\n",
      "ordercount                     258\n",
      "daysincelastorder              307\n",
      "cashbackamount                   0\n",
      "dtype: int64\n"
     ]
    }
   ],
   "source": [
    "df.columns  = df.columns.str.lower()\n",
    "print(df.isnull().sum())"
   ]
  },
  {
   "cell_type": "code",
   "execution_count": 124,
   "metadata": {},
   "outputs": [
    {
     "name": "stdout",
     "output_type": "stream",
     "text": [
      "Percentage of missing values:\n",
      "customerid                     0.000000\n",
      "churn                          0.000000\n",
      "tenure                         4.689165\n",
      "preferredlogindevice           0.000000\n",
      "citytier                       0.000000\n",
      "warehousetohome                4.458259\n",
      "preferredpaymentmode           0.000000\n",
      "gender                         0.000000\n",
      "hourspendonapp                 4.529307\n",
      "numberofdeviceregistered       0.000000\n",
      "preferedordercat               0.000000\n",
      "satisfactionscore              0.000000\n",
      "maritalstatus                  0.000000\n",
      "numberofaddress                0.000000\n",
      "complain                       0.000000\n",
      "orderamounthikefromlastyear    4.706927\n",
      "couponused                     4.547069\n",
      "ordercount                     4.582593\n",
      "daysincelastorder              5.452931\n",
      "cashbackamount                 0.000000\n",
      "dtype: float64\n"
     ]
    },
    {
     "name": "stderr",
     "output_type": "stream",
     "text": [
      "C:\\Users\\Admin\\AppData\\Local\\Temp\\ipykernel_20092\\3365010047.py:9: FutureWarning: The default value of numeric_only in DataFrame.mean is deprecated. In a future version, it will default to False. In addition, specifying 'numeric_only=None' is deprecated. Select only valid columns or specify the value of numeric_only to silence this warning.\n",
      "  df.fillna(df.mean(), inplace=True)\n"
     ]
    }
   ],
   "source": [
    "# Calculate the percentage of missing values for each variable\n",
    "missing_values = df.isnull().mean() * 100\n",
    "\n",
    "# Print the results\n",
    "print(\"Percentage of missing values:\")\n",
    "print(missing_values)\n",
    "\n",
    "# Fill missing values with mean\n",
    "df.fillna(df.mean(), inplace=True)"
   ]
  },
  {
   "attachments": {},
   "cell_type": "markdown",
   "metadata": {},
   "source": [
    "## Spliting data into train, val and test sets"
   ]
  },
  {
   "cell_type": "code",
   "execution_count": 147,
   "metadata": {},
   "outputs": [
    {
     "name": "stdout",
     "output_type": "stream",
     "text": [
      "Full data size: 4504\n",
      "Train data size: 3378\n",
      "Validation data size: 1126\n",
      "Test data size: 1126\n",
      "3378\n",
      "1126\n",
      "1126\n"
     ]
    }
   ],
   "source": [
    "from sklearn.model_selection import train_test_split\n",
    "\n",
    "# Split the data into train and test sets\n",
    "full_data, test_data = train_test_split(df, test_size=0.2, random_state=42)\n",
    "\n",
    "# Split the train data into train and validation sets\n",
    "train_data, val_data = train_test_split(full_data, test_size=0.25, random_state=42)\n",
    "\n",
    "# Print the sizes of the train, validation, and test sets\n",
    "print(\"Full data size:\", len(full_data))\n",
    "print(\"Train data size:\", len(train_data))\n",
    "print(\"Validation data size:\", len(val_data))\n",
    "print(\"Test data size:\", len(test_data))\n",
    "\n",
    "\n",
    "X_train = train_data.reset_index(drop = True)\n",
    "X_val = val_data.reset_index(drop = True)\n",
    "X_test = test_data.reset_index(drop = True)\n",
    "\n",
    "# assign the target variable \n",
    "y_train = train_data.churn.values\n",
    "y_val = val_data.churn.values\n",
    "y_test = test_data.churn.values\n",
    "print(len(y_train)), print(len(y_val)), print(len(y_test))\n",
    "\n",
    "# delete churn variable from df_train, val and test dataframe\n",
    "del X_train['churn']\n",
    "del X_val['churn']\n",
    "del X_test['churn']"
   ]
  },
  {
   "attachments": {},
   "cell_type": "markdown",
   "metadata": {},
   "source": [
    "## Modeling and Evaluation"
   ]
  },
  {
   "cell_type": "code",
   "execution_count": 151,
   "metadata": {},
   "outputs": [],
   "source": [
    "from sklearn.linear_model import LogisticRegression\n",
    "from sklearn.feature_extraction import DictVectorizer\n",
    "from sklearn.model_selection import GridSearchCV, KFold\n",
    "from sklearn.metrics import roc_auc_score"
   ]
  },
  {
   "cell_type": "code",
   "execution_count": 127,
   "metadata": {},
   "outputs": [],
   "source": [
    "# define the logistic regression model\n",
    "model = LogisticRegression()"
   ]
  },
  {
   "cell_type": "code",
   "execution_count": 133,
   "metadata": {},
   "outputs": [],
   "source": [
    "# Define the parameter grid for hyperparameter tuning\n",
    "params = {'C': [0.01, 0.1, 0.5, 1, 10], 'max_iter': [50, 100, 500, 1000]}"
   ]
  },
  {
   "cell_type": "code",
   "execution_count": 137,
   "metadata": {},
   "outputs": [
    {
     "data": {
      "text/html": [
       "<style>#sk-container-id-17 {color: black;background-color: white;}#sk-container-id-17 pre{padding: 0;}#sk-container-id-17 div.sk-toggleable {background-color: white;}#sk-container-id-17 label.sk-toggleable__label {cursor: pointer;display: block;width: 100%;margin-bottom: 0;padding: 0.3em;box-sizing: border-box;text-align: center;}#sk-container-id-17 label.sk-toggleable__label-arrow:before {content: \"▸\";float: left;margin-right: 0.25em;color: #696969;}#sk-container-id-17 label.sk-toggleable__label-arrow:hover:before {color: black;}#sk-container-id-17 div.sk-estimator:hover label.sk-toggleable__label-arrow:before {color: black;}#sk-container-id-17 div.sk-toggleable__content {max-height: 0;max-width: 0;overflow: hidden;text-align: left;background-color: #f0f8ff;}#sk-container-id-17 div.sk-toggleable__content pre {margin: 0.2em;color: black;border-radius: 0.25em;background-color: #f0f8ff;}#sk-container-id-17 input.sk-toggleable__control:checked~div.sk-toggleable__content {max-height: 200px;max-width: 100%;overflow: auto;}#sk-container-id-17 input.sk-toggleable__control:checked~label.sk-toggleable__label-arrow:before {content: \"▾\";}#sk-container-id-17 div.sk-estimator input.sk-toggleable__control:checked~label.sk-toggleable__label {background-color: #d4ebff;}#sk-container-id-17 div.sk-label input.sk-toggleable__control:checked~label.sk-toggleable__label {background-color: #d4ebff;}#sk-container-id-17 input.sk-hidden--visually {border: 0;clip: rect(1px 1px 1px 1px);clip: rect(1px, 1px, 1px, 1px);height: 1px;margin: -1px;overflow: hidden;padding: 0;position: absolute;width: 1px;}#sk-container-id-17 div.sk-estimator {font-family: monospace;background-color: #f0f8ff;border: 1px dotted black;border-radius: 0.25em;box-sizing: border-box;margin-bottom: 0.5em;}#sk-container-id-17 div.sk-estimator:hover {background-color: #d4ebff;}#sk-container-id-17 div.sk-parallel-item::after {content: \"\";width: 100%;border-bottom: 1px solid gray;flex-grow: 1;}#sk-container-id-17 div.sk-label:hover label.sk-toggleable__label {background-color: #d4ebff;}#sk-container-id-17 div.sk-serial::before {content: \"\";position: absolute;border-left: 1px solid gray;box-sizing: border-box;top: 0;bottom: 0;left: 50%;z-index: 0;}#sk-container-id-17 div.sk-serial {display: flex;flex-direction: column;align-items: center;background-color: white;padding-right: 0.2em;padding-left: 0.2em;position: relative;}#sk-container-id-17 div.sk-item {position: relative;z-index: 1;}#sk-container-id-17 div.sk-parallel {display: flex;align-items: stretch;justify-content: center;background-color: white;position: relative;}#sk-container-id-17 div.sk-item::before, #sk-container-id-17 div.sk-parallel-item::before {content: \"\";position: absolute;border-left: 1px solid gray;box-sizing: border-box;top: 0;bottom: 0;left: 50%;z-index: -1;}#sk-container-id-17 div.sk-parallel-item {display: flex;flex-direction: column;z-index: 1;position: relative;background-color: white;}#sk-container-id-17 div.sk-parallel-item:first-child::after {align-self: flex-end;width: 50%;}#sk-container-id-17 div.sk-parallel-item:last-child::after {align-self: flex-start;width: 50%;}#sk-container-id-17 div.sk-parallel-item:only-child::after {width: 0;}#sk-container-id-17 div.sk-dashed-wrapped {border: 1px dashed gray;margin: 0 0.4em 0.5em 0.4em;box-sizing: border-box;padding-bottom: 0.4em;background-color: white;}#sk-container-id-17 div.sk-label label {font-family: monospace;font-weight: bold;display: inline-block;line-height: 1.2em;}#sk-container-id-17 div.sk-label-container {text-align: center;}#sk-container-id-17 div.sk-container {/* jupyter's `normalize.less` sets `[hidden] { display: none; }` but bootstrap.min.css set `[hidden] { display: none !important; }` so we also need the `!important` here to be able to override the default hidden behavior on the sphinx rendered scikit-learn.org. See: https://github.com/scikit-learn/scikit-learn/issues/21755 */display: inline-block !important;position: relative;}#sk-container-id-17 div.sk-text-repr-fallback {display: none;}</style><div id=\"sk-container-id-17\" class=\"sk-top-container\"><div class=\"sk-text-repr-fallback\"><pre>GridSearchCV(cv=5, estimator=LogisticRegression(), n_jobs=-1,\n",
       "             param_grid={&#x27;C&#x27;: [0.01, 0.1, 0.5, 1, 10],\n",
       "                         &#x27;max_iter&#x27;: [50, 100, 500, 1000]})</pre><b>In a Jupyter environment, please rerun this cell to show the HTML representation or trust the notebook. <br />On GitHub, the HTML representation is unable to render, please try loading this page with nbviewer.org.</b></div><div class=\"sk-container\" hidden><div class=\"sk-item sk-dashed-wrapped\"><div class=\"sk-label-container\"><div class=\"sk-label sk-toggleable\"><input class=\"sk-toggleable__control sk-hidden--visually\" id=\"sk-estimator-id-33\" type=\"checkbox\" ><label for=\"sk-estimator-id-33\" class=\"sk-toggleable__label sk-toggleable__label-arrow\">GridSearchCV</label><div class=\"sk-toggleable__content\"><pre>GridSearchCV(cv=5, estimator=LogisticRegression(), n_jobs=-1,\n",
       "             param_grid={&#x27;C&#x27;: [0.01, 0.1, 0.5, 1, 10],\n",
       "                         &#x27;max_iter&#x27;: [50, 100, 500, 1000]})</pre></div></div></div><div class=\"sk-parallel\"><div class=\"sk-parallel-item\"><div class=\"sk-item\"><div class=\"sk-label-container\"><div class=\"sk-label sk-toggleable\"><input class=\"sk-toggleable__control sk-hidden--visually\" id=\"sk-estimator-id-34\" type=\"checkbox\" ><label for=\"sk-estimator-id-34\" class=\"sk-toggleable__label sk-toggleable__label-arrow\">estimator: LogisticRegression</label><div class=\"sk-toggleable__content\"><pre>LogisticRegression()</pre></div></div></div><div class=\"sk-serial\"><div class=\"sk-item\"><div class=\"sk-estimator sk-toggleable\"><input class=\"sk-toggleable__control sk-hidden--visually\" id=\"sk-estimator-id-35\" type=\"checkbox\" ><label for=\"sk-estimator-id-35\" class=\"sk-toggleable__label sk-toggleable__label-arrow\">LogisticRegression</label><div class=\"sk-toggleable__content\"><pre>LogisticRegression()</pre></div></div></div></div></div></div></div></div></div></div>"
      ],
      "text/plain": [
       "GridSearchCV(cv=5, estimator=LogisticRegression(), n_jobs=-1,\n",
       "             param_grid={'C': [0.01, 0.1, 0.5, 1, 10],\n",
       "                         'max_iter': [50, 100, 500, 1000]})"
      ]
     },
     "execution_count": 137,
     "metadata": {},
     "output_type": "execute_result"
    }
   ],
   "source": [
    "# Perform grid search with cross-validation to find the best hyperparameters\n",
    "grid_search = GridSearchCV(model, param_grid=params, cv=5, n_jobs=-1)\n",
    "grid_search.fit(X_train, y_train)"
   ]
  },
  {
   "cell_type": "code",
   "execution_count": 138,
   "metadata": {},
   "outputs": [
    {
     "name": "stdout",
     "output_type": "stream",
     "text": [
      "Best hyperparameters: {'C': 1, 'max_iter': 500}\n",
      "Validation set score: 0.852873986412448\n"
     ]
    }
   ],
   "source": [
    "# Print the best hyperparameters and their scores on the validation set\n",
    "print('Best hyperparameters:', grid_search.best_params_)\n",
    "print('Validation set score:', grid_search.best_score_)"
   ]
  },
  {
   "cell_type": "code",
   "execution_count": 144,
   "metadata": {},
   "outputs": [
    {
     "name": "stdout",
     "output_type": "stream",
     "text": [
      "Validation accuracy: 0.8756660746003553\n"
     ]
    }
   ],
   "source": [
    "# fit the model\n",
    "lr = LogisticRegression(**grid_search.best_params_)\n",
    "lr.fit(X_train, y_train)\n",
    "\n",
    "# Encoding data\n",
    "dicts = X_val.to_dict(orient = 'records')\n",
    "dv = DictVectorizer(sparse = False)\n",
    "X_val = dv.fit_transform(dicts)\n",
    "\n",
    "# Evaluate the model on the validation set using the best hyperparameters\n",
    "val_preds = lr.predict(X_val)\n",
    "val_acc = roc_auc_score(y_val, val_preds)\n",
    "print(\"Validation accuracy:\", val_acc)"
   ]
  },
  {
   "attachments": {},
   "cell_type": "markdown",
   "metadata": {},
   "source": [
    "##### Cross validation"
   ]
  },
  {
   "cell_type": "code",
   "execution_count": 156,
   "metadata": {},
   "outputs": [
    {
     "name": "stdout",
     "output_type": "stream",
     "text": [
      "Validation accuracy: 0.646508639154648\n",
      "validation results:\n",
      "C={'C': 1, 'max_iter': 500} 0.647 +- 0.000\n"
     ]
    },
    {
     "name": "stderr",
     "output_type": "stream",
     "text": [
      "C:\\Users\\Admin\\AppData\\Local\\Packages\\PythonSoftwareFoundation.Python.3.11_qbz5n2kfra8p0\\LocalCache\\local-packages\\Python311\\site-packages\\sklearn\\linear_model\\_logistic.py:458: ConvergenceWarning: lbfgs failed to converge (status=1):\n",
      "STOP: TOTAL NO. of ITERATIONS REACHED LIMIT.\n",
      "\n",
      "Increase the number of iterations (max_iter) or scale the data as shown in:\n",
      "    https://scikit-learn.org/stable/modules/preprocessing.html\n",
      "Please also refer to the documentation for alternative solver options:\n",
      "    https://scikit-learn.org/stable/modules/linear_model.html#logistic-regression\n",
      "  n_iter_i = _check_optimize_result(\n"
     ]
    },
    {
     "name": "stdout",
     "output_type": "stream",
     "text": [
      "Validation accuracy: 0.9402777777777778\n",
      "validation results:\n",
      "C={'C': 1, 'max_iter': 500} 0.793 +- 0.147\n"
     ]
    },
    {
     "name": "stderr",
     "output_type": "stream",
     "text": [
      "C:\\Users\\Admin\\AppData\\Local\\Packages\\PythonSoftwareFoundation.Python.3.11_qbz5n2kfra8p0\\LocalCache\\local-packages\\Python311\\site-packages\\sklearn\\linear_model\\_logistic.py:458: ConvergenceWarning: lbfgs failed to converge (status=1):\n",
      "STOP: TOTAL NO. of ITERATIONS REACHED LIMIT.\n",
      "\n",
      "Increase the number of iterations (max_iter) or scale the data as shown in:\n",
      "    https://scikit-learn.org/stable/modules/preprocessing.html\n",
      "Please also refer to the documentation for alternative solver options:\n",
      "    https://scikit-learn.org/stable/modules/linear_model.html#logistic-regression\n",
      "  n_iter_i = _check_optimize_result(\n"
     ]
    },
    {
     "name": "stdout",
     "output_type": "stream",
     "text": [
      "Validation accuracy: 0.9896033112039998\n",
      "validation results:\n",
      "C={'C': 1, 'max_iter': 500} 0.859 +- 0.151\n"
     ]
    },
    {
     "name": "stderr",
     "output_type": "stream",
     "text": [
      "C:\\Users\\Admin\\AppData\\Local\\Packages\\PythonSoftwareFoundation.Python.3.11_qbz5n2kfra8p0\\LocalCache\\local-packages\\Python311\\site-packages\\sklearn\\linear_model\\_logistic.py:458: ConvergenceWarning: lbfgs failed to converge (status=1):\n",
      "STOP: TOTAL NO. of ITERATIONS REACHED LIMIT.\n",
      "\n",
      "Increase the number of iterations (max_iter) or scale the data as shown in:\n",
      "    https://scikit-learn.org/stable/modules/preprocessing.html\n",
      "Please also refer to the documentation for alternative solver options:\n",
      "    https://scikit-learn.org/stable/modules/linear_model.html#logistic-regression\n",
      "  n_iter_i = _check_optimize_result(\n"
     ]
    },
    {
     "name": "stdout",
     "output_type": "stream",
     "text": [
      "Validation accuracy: 0.9482964983577352\n",
      "validation results:\n",
      "C={'C': 1, 'max_iter': 500} 0.881 +- 0.137\n",
      "Validation accuracy: 0.9861804995970991\n",
      "validation results:\n",
      "C={'C': 1, 'max_iter': 500} 0.902 +- 0.129\n"
     ]
    },
    {
     "name": "stderr",
     "output_type": "stream",
     "text": [
      "C:\\Users\\Admin\\AppData\\Local\\Packages\\PythonSoftwareFoundation.Python.3.11_qbz5n2kfra8p0\\LocalCache\\local-packages\\Python311\\site-packages\\sklearn\\linear_model\\_logistic.py:458: ConvergenceWarning: lbfgs failed to converge (status=1):\n",
      "STOP: TOTAL NO. of ITERATIONS REACHED LIMIT.\n",
      "\n",
      "Increase the number of iterations (max_iter) or scale the data as shown in:\n",
      "    https://scikit-learn.org/stable/modules/preprocessing.html\n",
      "Please also refer to the documentation for alternative solver options:\n",
      "    https://scikit-learn.org/stable/modules/linear_model.html#logistic-regression\n",
      "  n_iter_i = _check_optimize_result(\n"
     ]
    }
   ],
   "source": [
    "# Apply k-fold cross-validation to the model\n",
    "\n",
    "kfold = KFold(n_splits=5)\n",
    "fold_accs = []\n",
    "for train_index, val_index in kfold.split(full_data):\n",
    "    train_data = full_data.iloc[train_index]\n",
    "    val_data = full_data.iloc[val_index]\n",
    "\n",
    "    y_train = train_data.churn.values\n",
    "    y_val = val_data.churn.values\n",
    "\n",
    "    dicts = train_data.to_dict(orient = 'records')\n",
    "    dv = DictVectorizer(sparse = False)\n",
    "    X_train = dv.fit_transform(dicts)\n",
    "    lr = LogisticRegression(**grid_search.best_params_)\n",
    "    lr.fit(X_train, y_train)\n",
    "\n",
    "    dicts = val_data.to_dict(orient = 'records')\n",
    "    dv = DictVectorizer(sparse = False)\n",
    "    X_val = dv.fit_transform(dicts)\n",
    "\n",
    "    val_preds = lr.predict(X_val)\n",
    "    val_acc = roc_auc_score(y_val, val_preds)\n",
    "    fold_accs.append(val_acc)\n",
    "\n",
    "    print(\"Validation accuracy:\", val_acc)\n",
    "\n",
    "    print('validation results:')\n",
    "    print('C=%s %.3f +- %.3f' % (grid_search.best_params_, np.mean(fold_accs), np.std(fold_accs)))\n",
    "\n"
   ]
  },
  {
   "cell_type": "code",
   "execution_count": 157,
   "metadata": {},
   "outputs": [
    {
     "name": "stdout",
     "output_type": "stream",
     "text": [
      "Training the Final model\n"
     ]
    },
    {
     "name": "stderr",
     "output_type": "stream",
     "text": [
      "C:\\Users\\Admin\\AppData\\Local\\Packages\\PythonSoftwareFoundation.Python.3.11_qbz5n2kfra8p0\\LocalCache\\local-packages\\Python311\\site-packages\\sklearn\\linear_model\\_logistic.py:458: ConvergenceWarning: lbfgs failed to converge (status=1):\n",
      "STOP: TOTAL NO. of ITERATIONS REACHED LIMIT.\n",
      "\n",
      "Increase the number of iterations (max_iter) or scale the data as shown in:\n",
      "    https://scikit-learn.org/stable/modules/preprocessing.html\n",
      "Please also refer to the documentation for alternative solver options:\n",
      "    https://scikit-learn.org/stable/modules/linear_model.html#logistic-regression\n",
      "  n_iter_i = _check_optimize_result(\n"
     ]
    },
    {
     "data": {
      "text/html": [
       "<style>#sk-container-id-18 {color: black;background-color: white;}#sk-container-id-18 pre{padding: 0;}#sk-container-id-18 div.sk-toggleable {background-color: white;}#sk-container-id-18 label.sk-toggleable__label {cursor: pointer;display: block;width: 100%;margin-bottom: 0;padding: 0.3em;box-sizing: border-box;text-align: center;}#sk-container-id-18 label.sk-toggleable__label-arrow:before {content: \"▸\";float: left;margin-right: 0.25em;color: #696969;}#sk-container-id-18 label.sk-toggleable__label-arrow:hover:before {color: black;}#sk-container-id-18 div.sk-estimator:hover label.sk-toggleable__label-arrow:before {color: black;}#sk-container-id-18 div.sk-toggleable__content {max-height: 0;max-width: 0;overflow: hidden;text-align: left;background-color: #f0f8ff;}#sk-container-id-18 div.sk-toggleable__content pre {margin: 0.2em;color: black;border-radius: 0.25em;background-color: #f0f8ff;}#sk-container-id-18 input.sk-toggleable__control:checked~div.sk-toggleable__content {max-height: 200px;max-width: 100%;overflow: auto;}#sk-container-id-18 input.sk-toggleable__control:checked~label.sk-toggleable__label-arrow:before {content: \"▾\";}#sk-container-id-18 div.sk-estimator input.sk-toggleable__control:checked~label.sk-toggleable__label {background-color: #d4ebff;}#sk-container-id-18 div.sk-label input.sk-toggleable__control:checked~label.sk-toggleable__label {background-color: #d4ebff;}#sk-container-id-18 input.sk-hidden--visually {border: 0;clip: rect(1px 1px 1px 1px);clip: rect(1px, 1px, 1px, 1px);height: 1px;margin: -1px;overflow: hidden;padding: 0;position: absolute;width: 1px;}#sk-container-id-18 div.sk-estimator {font-family: monospace;background-color: #f0f8ff;border: 1px dotted black;border-radius: 0.25em;box-sizing: border-box;margin-bottom: 0.5em;}#sk-container-id-18 div.sk-estimator:hover {background-color: #d4ebff;}#sk-container-id-18 div.sk-parallel-item::after {content: \"\";width: 100%;border-bottom: 1px solid gray;flex-grow: 1;}#sk-container-id-18 div.sk-label:hover label.sk-toggleable__label {background-color: #d4ebff;}#sk-container-id-18 div.sk-serial::before {content: \"\";position: absolute;border-left: 1px solid gray;box-sizing: border-box;top: 0;bottom: 0;left: 50%;z-index: 0;}#sk-container-id-18 div.sk-serial {display: flex;flex-direction: column;align-items: center;background-color: white;padding-right: 0.2em;padding-left: 0.2em;position: relative;}#sk-container-id-18 div.sk-item {position: relative;z-index: 1;}#sk-container-id-18 div.sk-parallel {display: flex;align-items: stretch;justify-content: center;background-color: white;position: relative;}#sk-container-id-18 div.sk-item::before, #sk-container-id-18 div.sk-parallel-item::before {content: \"\";position: absolute;border-left: 1px solid gray;box-sizing: border-box;top: 0;bottom: 0;left: 50%;z-index: -1;}#sk-container-id-18 div.sk-parallel-item {display: flex;flex-direction: column;z-index: 1;position: relative;background-color: white;}#sk-container-id-18 div.sk-parallel-item:first-child::after {align-self: flex-end;width: 50%;}#sk-container-id-18 div.sk-parallel-item:last-child::after {align-self: flex-start;width: 50%;}#sk-container-id-18 div.sk-parallel-item:only-child::after {width: 0;}#sk-container-id-18 div.sk-dashed-wrapped {border: 1px dashed gray;margin: 0 0.4em 0.5em 0.4em;box-sizing: border-box;padding-bottom: 0.4em;background-color: white;}#sk-container-id-18 div.sk-label label {font-family: monospace;font-weight: bold;display: inline-block;line-height: 1.2em;}#sk-container-id-18 div.sk-label-container {text-align: center;}#sk-container-id-18 div.sk-container {/* jupyter's `normalize.less` sets `[hidden] { display: none; }` but bootstrap.min.css set `[hidden] { display: none !important; }` so we also need the `!important` here to be able to override the default hidden behavior on the sphinx rendered scikit-learn.org. See: https://github.com/scikit-learn/scikit-learn/issues/21755 */display: inline-block !important;position: relative;}#sk-container-id-18 div.sk-text-repr-fallback {display: none;}</style><div id=\"sk-container-id-18\" class=\"sk-top-container\"><div class=\"sk-text-repr-fallback\"><pre>LogisticRegression(C=1, max_iter=500)</pre><b>In a Jupyter environment, please rerun this cell to show the HTML representation or trust the notebook. <br />On GitHub, the HTML representation is unable to render, please try loading this page with nbviewer.org.</b></div><div class=\"sk-container\" hidden><div class=\"sk-item\"><div class=\"sk-estimator sk-toggleable\"><input class=\"sk-toggleable__control sk-hidden--visually\" id=\"sk-estimator-id-36\" type=\"checkbox\" checked><label for=\"sk-estimator-id-36\" class=\"sk-toggleable__label sk-toggleable__label-arrow\">LogisticRegression</label><div class=\"sk-toggleable__content\"><pre>LogisticRegression(C=1, max_iter=500)</pre></div></div></div></div></div>"
      ],
      "text/plain": [
       "LogisticRegression(C=1, max_iter=500)"
      ]
     },
     "execution_count": 157,
     "metadata": {},
     "output_type": "execute_result"
    }
   ],
   "source": [
    "# training the model\n",
    "print('Training the Final model')\n",
    "dicts = train_data.to_dict(orient = 'records')\n",
    "dv = DictVectorizer(sparse = False)\n",
    "X_train = dv.fit_transform(dicts)\n",
    "lr = LogisticRegression(**grid_search.best_params_)\n",
    "lr.fit(X_train, y_train)"
   ]
  },
  {
   "cell_type": "code",
   "execution_count": 159,
   "metadata": {},
   "outputs": [
    {
     "name": "stdout",
     "output_type": "stream",
     "text": [
      "Test accuracy: 0.9595054140218858\n"
     ]
    }
   ],
   "source": [
    "# Evaluate the performance of the model on the test set\n",
    "dicts = test_data.to_dict(orient = 'records')\n",
    "dv = DictVectorizer(sparse = False)\n",
    "X_test = dv.fit_transform(dicts)\n",
    "\n",
    "y_pred = lr.predict(X_test)\n",
    "test_accuracy = roc_auc_score(y_test, y_pred)\n",
    "print(\"Test accuracy:\", test_accuracy)"
   ]
  },
  {
   "attachments": {},
   "cell_type": "markdown",
   "metadata": {},
   "source": [
    "## Save model"
   ]
  },
  {
   "cell_type": "code",
   "execution_count": 173,
   "metadata": {},
   "outputs": [
    {
     "name": "stdout",
     "output_type": "stream",
     "text": [
      "the model is saved to model_C=1.bin\n"
     ]
    }
   ],
   "source": [
    "import pickle\n",
    "\n",
    "# Save the model to a file using pickle\n",
    "with open(output_file, 'wb') as f_out:\n",
    "  pickle.dump((lr), f_out)\n",
    "\n",
    "print(f'the model is saved to {output_file}')"
   ]
  },
  {
   "attachments": {},
   "cell_type": "markdown",
   "metadata": {},
   "source": [
    "## Make prediction on new data"
   ]
  },
  {
   "cell_type": "code",
   "execution_count": 174,
   "metadata": {},
   "outputs": [],
   "source": [
    "import pickle\n",
    "# Load the saved model from the file\n",
    "model_file = 'model_C=1.bin'\n",
    "\n",
    "with open(model_file, 'rb') as f_in:\n",
    "  lr = pickle.load( f_in)"
   ]
  },
  {
   "cell_type": "code",
   "execution_count": 176,
   "metadata": {},
   "outputs": [],
   "source": [
    "customer ={\n",
    "    'customerid':'90010',\n",
    "    'tenure':'0.0',\n",
    "    'preferredlogindevice':'phone',\n",
    "    'citytier':'5',\n",
    "    'warehousetohome':'10.0',\n",
    "    'preferredpaymentmode':'credit_card',\n",
    "    'gender':'female',\n",
    "    'hourspendonapp':'4.0',\n",
    "    'numberofdeviceregistered':'2',\n",
    "    'preferedordercat':'laptop_&_accessory',\n",
    "    'satisfactionscore':'3',\n",
    "    'maritalstatus':'single',\n",
    "    'numberofaddress':'12',\n",
    "    'complain':'0',\n",
    "    'orderamounthikefromlastyear':'15.0',\n",
    "    'couponused':'0.0',\n",
    "    'ordercount':'0.0',\n",
    "    'daysincelastorder':'0.0',\n",
    "    'cashbackamount':'100.07'\n",
    "}"
   ]
  },
  {
   "cell_type": "code",
   "execution_count": 182,
   "metadata": {},
   "outputs": [
    {
     "name": "stdout",
     "output_type": "stream",
     "text": [
      "input {'customerid': '90010', 'tenure': '0.0', 'preferredlogindevice': 'phone', 'citytier': '5', 'warehousetohome': '10.0', 'preferredpaymentmode': 'credit_card', 'gender': 'female', 'hourspendonapp': '4.0', 'numberofdeviceregistered': '2', 'preferedordercat': 'laptop_&_accessory', 'satisfactionscore': '3', 'maritalstatus': 'single', 'numberofaddress': '12', 'complain': '0', 'orderamounthikefromlastyear': '15.0', 'couponused': '0.0', 'ordercount': '0.0', 'daysincelastorder': '0.0', 'cashbackamount': '100.07'}\n",
      "churn probability 0.5041751491924896\n",
      "churn score [1]\n"
     ]
    }
   ],
   "source": [
    "# Use the model to make predictions on new data\n",
    "x =dv.transform([customer])\n",
    "y_pred = lr.predict_proba(x)[0, 1]\n",
    "churn_pred = lr.predict(x)\n",
    "\n",
    "# Print the prediction\n",
    "print('input', customer)\n",
    "print('churn probability', y_pred)\n",
    "print('churn score', churn_pred)"
   ]
  }
 ],
 "metadata": {
  "kernelspec": {
   "display_name": "Python 3",
   "language": "python",
   "name": "python3"
  },
  "language_info": {
   "codemirror_mode": {
    "name": "ipython",
    "version": 3
   },
   "file_extension": ".py",
   "mimetype": "text/x-python",
   "name": "python",
   "nbconvert_exporter": "python",
   "pygments_lexer": "ipython3",
   "version": "3.11.2"
  },
  "orig_nbformat": 4
 },
 "nbformat": 4,
 "nbformat_minor": 2
}
